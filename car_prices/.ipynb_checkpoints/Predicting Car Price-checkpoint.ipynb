{
 "cells": [
  {
   "cell_type": "markdown",
   "metadata": {},
   "source": [
    "# Predicting Car Prices using K-Nearest Neighbors\n",
    "\n",
    "This work provides a walkthrough of data preparation, cleaning, modeling, and tuning to predict car prices.\n",
    "\n",
    "The dataset can be downloaded here: https://archive.ics.uci.edu/ml/machine-learning-databases/autos/imports-85.data, while the description can be found here: https://archive.ics.uci.edu/ml/machine-learning-databases/autos/imports-85.names. \n",
    "\n",
    "The following shows the attributes:\n",
    "<table>\n",
    "  <th>\n",
    "      Attribute               \n",
    "  </th>\n",
    "  <th>\n",
    "      Attribute Range\n",
    "  </th>\n",
    "  <tr>\n",
    "      <td>symboling</td>\n",
    "      <td>-3, -2, -1, 0, 1, 2, 3</td>\n",
    "  </tr>\n",
    "  <tr>\n",
    "      <td>normalized-losses</td>\n",
    "      <td>continuous from 65 to 256</td>\n",
    "  </tr>\n",
    "  <tr>\n",
    "      <td>make</td>\n",
    "      <td>alfa-romero, audi, bmw, chevrolet, dodge, honda, isuzu, jaguar, mazda, mercedes-benz, mercury, mitsubishi, nissan, peugot, plymouth, porsche, renault, saab, subaru, toyota, volkswagen, volvo</td> \n",
    "  </tr>\n",
    "  <tr>\n",
    "      <td>fuel-type</td>\n",
    "      <td>diesel, gas</td>  \n",
    "  </tr>\n",
    "  <tr>\n",
    "      <td>aspiration</td>\n",
    "      <td>std, turbo</td>\n",
    "  </tr>\n",
    "  <tr>\n",
    "      <td>num-of-doors</td>\n",
    "      <td>four, two</td>\n",
    "  </tr>\n",
    "  <tr>\n",
    "      <td>body-style</td>\n",
    "      <td>hardtop, wagon, sedan, hatchback, convertible</td>\n",
    "  <tr>\n",
    "      <td>drive-wheels</td>\n",
    "      <td>4wd, fwd, rwd</td>\n",
    "  </tr>\n",
    "  <tr>\n",
    "      <td>engine-location</td>\n",
    "      <td>front, rear</td>\n",
    "  </tr>\n",
    "  <tr>\n",
    "      <td>wheel-base</td>\n",
    "      <td>continuous from 86.6 to 120.9</td>\n",
    "  </tr>\n",
    "  <tr>\n",
    "      <td>length</td>\n",
    "      <td>continuous from 141.1 to 208.1</td>\n",
    "  </tr>\n",
    "  <tr>\n",
    "      <td>width</td>\n",
    "      <td>continuous from 60.3 to 72.3</td>\n",
    "  </tr>\n",
    "  <tr>\n",
    "      <td>height</td>\n",
    "      <td>continuous from 47.8 to 59.8</td>\n",
    "  </tr>\n",
    "  <tr>\n",
    "      <td>curb-weight</td>\n",
    "      <td>continuous from 1488 to 4066</td>\n",
    "  </tr>\n",
    "  <tr>\n",
    "      <td>engine-type</td>\n",
    "      <td>dohc, dohcv, l, ohc, ohcf, ohcv, rotor</td>\n",
    "  </tr>\n",
    "  <tr>\n",
    "      <td>num-of-cylinders</td>\n",
    "      <td>eight, five, four, six, three, twelve, two</td>\n",
    "  </tr>\n",
    "  <tr>\n",
    "      <td>engine-size</td>\n",
    "      <td>continuous from 61 to 326</td>\n",
    "  </tr>\n",
    "  <tr>\n",
    "      <td>fuel-system</td>\n",
    "      <td>1bbl, 2bbl, 4bbl, idi, mfi, mpfi, spdi, spfi</td>\n",
    "  </tr>\n",
    "  <tr>\n",
    "      <td>bore</td>\n",
    "      <td>continuous from 2.54 to 3.94</td>\n",
    "  </tr>\n",
    "  <tr>\n",
    "      <td>stroke</td>\n",
    "      <td>continuous from 2.07 to 4.17</td>\n",
    "  </tr>\n",
    "  <tr>\n",
    "      <td>compression-ratio</td>\n",
    "      <td>continuous from 7 to 23</td>\n",
    "  </tr>\n",
    "  <tr>\n",
    "      <td>horsepower</td>\n",
    "      <td>continuous from 48 to 288</td>\n",
    "  </tr>\n",
    "  <tr>\n",
    "      <td>peak-rpm</td>\n",
    "      <td>continuous from 4150 to 6600</td>\n",
    "  </tr>\n",
    "  <tr>\n",
    "      <td>city-mpg</td>\n",
    "      <td>continuous from 13 to 49</td>\n",
    "  </tr>\n",
    "  <tr>\n",
    "      <td>highway-mpg</td>\n",
    "      <td>continuous from 16 to 54</td>\n",
    "  </tr>\n",
    "  <tr>\n",
    "      <td>price</td>\n",
    "      <td>continuous from 5118 to 45400</td>\n",
    "  </tr>       \n",
    "</table>\n",
    "\n",
    "It is also helpful that we know the number of missing values denoted as  \"?\" in the following columns:\n",
    "<table align='left'>\n",
    "    <th>Column</th>\n",
    "    <th>Number of Missing Values</th>\n",
    "    <tr>\n",
    "        <td>2</td>\n",
    "        <td>41</td>\n",
    "    </tr>\n",
    "    <tr>\n",
    "        <td>6</td>\n",
    "        <td>2</td>\n",
    "    </tr>\n",
    "    <tr>\n",
    "        <td>19</td>\n",
    "        <td>4</td>\n",
    "    </tr>\n",
    "    <tr>\n",
    "        <td>20</td>\n",
    "        <td>4</td>\n",
    "    </tr>\n",
    "    <tr>\n",
    "        <td>22</td>\n",
    "        <td>2</td>\n",
    "    </tr>\n",
    "    <tr>\n",
    "        <td>23</td>\n",
    "        <td>2</td>\n",
    "    </tr>\n",
    "    <tr>\n",
    "        <td>26</td>\n",
    "        <td>4</td>\n",
    "    </tr>\n",
    "</table>"
   ]
  },
  {
   "cell_type": "markdown",
   "metadata": {},
   "source": [
    "# Preparation and Cleaning"
   ]
  },
  {
   "cell_type": "code",
   "execution_count": 1,
   "metadata": {
    "collapsed": false
   },
   "outputs": [
    {
     "data": {
      "text/plain": [
       "(205, 26)"
      ]
     },
     "execution_count": 1,
     "metadata": {},
     "output_type": "execute_result"
    }
   ],
   "source": [
    "import pandas as pd\n",
    "\n",
    "cars = pd.read_csv('import-85.data', names=['symboling', 'normalized-losses', 'make', 'fuel-type', 'aspiration',\\\n",
    "                                           'num-of-doors', 'body-style', 'drive-wheels', 'engine-location', 'wheel-base',\\\n",
    "                                           'length', 'width', 'height', 'curb-weight', 'engine-type', 'num-of-cylinders',\\\n",
    "                                           'engine-size', 'fuel-system', 'bore', 'stroke', 'compression-ration',\\\n",
    "                                           'horsepower', 'peak-rpm', 'city-mpg', 'highway-mpg', 'price'])\n",
    "cars.shape"
   ]
  },
  {
   "cell_type": "code",
   "execution_count": 2,
   "metadata": {
    "collapsed": false
   },
   "outputs": [
    {
     "data": {
      "text/html": [
       "<div>\n",
       "<table border=\"1\" class=\"dataframe\">\n",
       "  <thead>\n",
       "    <tr style=\"text-align: right;\">\n",
       "      <th></th>\n",
       "      <th>symboling</th>\n",
       "      <th>normalized-losses</th>\n",
       "      <th>make</th>\n",
       "      <th>fuel-type</th>\n",
       "      <th>aspiration</th>\n",
       "      <th>num-of-doors</th>\n",
       "      <th>body-style</th>\n",
       "      <th>drive-wheels</th>\n",
       "      <th>engine-location</th>\n",
       "      <th>wheel-base</th>\n",
       "      <th>...</th>\n",
       "      <th>engine-size</th>\n",
       "      <th>fuel-system</th>\n",
       "      <th>bore</th>\n",
       "      <th>stroke</th>\n",
       "      <th>compression-ration</th>\n",
       "      <th>horsepower</th>\n",
       "      <th>peak-rpm</th>\n",
       "      <th>city-mpg</th>\n",
       "      <th>highway-mpg</th>\n",
       "      <th>price</th>\n",
       "    </tr>\n",
       "  </thead>\n",
       "  <tbody>\n",
       "    <tr>\n",
       "      <th>0</th>\n",
       "      <td>3</td>\n",
       "      <td>?</td>\n",
       "      <td>alfa-romero</td>\n",
       "      <td>gas</td>\n",
       "      <td>std</td>\n",
       "      <td>two</td>\n",
       "      <td>convertible</td>\n",
       "      <td>rwd</td>\n",
       "      <td>front</td>\n",
       "      <td>88.6</td>\n",
       "      <td>...</td>\n",
       "      <td>130</td>\n",
       "      <td>mpfi</td>\n",
       "      <td>3.47</td>\n",
       "      <td>2.68</td>\n",
       "      <td>9.0</td>\n",
       "      <td>111</td>\n",
       "      <td>5000</td>\n",
       "      <td>21</td>\n",
       "      <td>27</td>\n",
       "      <td>13495</td>\n",
       "    </tr>\n",
       "    <tr>\n",
       "      <th>1</th>\n",
       "      <td>3</td>\n",
       "      <td>?</td>\n",
       "      <td>alfa-romero</td>\n",
       "      <td>gas</td>\n",
       "      <td>std</td>\n",
       "      <td>two</td>\n",
       "      <td>convertible</td>\n",
       "      <td>rwd</td>\n",
       "      <td>front</td>\n",
       "      <td>88.6</td>\n",
       "      <td>...</td>\n",
       "      <td>130</td>\n",
       "      <td>mpfi</td>\n",
       "      <td>3.47</td>\n",
       "      <td>2.68</td>\n",
       "      <td>9.0</td>\n",
       "      <td>111</td>\n",
       "      <td>5000</td>\n",
       "      <td>21</td>\n",
       "      <td>27</td>\n",
       "      <td>16500</td>\n",
       "    </tr>\n",
       "    <tr>\n",
       "      <th>2</th>\n",
       "      <td>1</td>\n",
       "      <td>?</td>\n",
       "      <td>alfa-romero</td>\n",
       "      <td>gas</td>\n",
       "      <td>std</td>\n",
       "      <td>two</td>\n",
       "      <td>hatchback</td>\n",
       "      <td>rwd</td>\n",
       "      <td>front</td>\n",
       "      <td>94.5</td>\n",
       "      <td>...</td>\n",
       "      <td>152</td>\n",
       "      <td>mpfi</td>\n",
       "      <td>2.68</td>\n",
       "      <td>3.47</td>\n",
       "      <td>9.0</td>\n",
       "      <td>154</td>\n",
       "      <td>5000</td>\n",
       "      <td>19</td>\n",
       "      <td>26</td>\n",
       "      <td>16500</td>\n",
       "    </tr>\n",
       "    <tr>\n",
       "      <th>3</th>\n",
       "      <td>2</td>\n",
       "      <td>164</td>\n",
       "      <td>audi</td>\n",
       "      <td>gas</td>\n",
       "      <td>std</td>\n",
       "      <td>four</td>\n",
       "      <td>sedan</td>\n",
       "      <td>fwd</td>\n",
       "      <td>front</td>\n",
       "      <td>99.8</td>\n",
       "      <td>...</td>\n",
       "      <td>109</td>\n",
       "      <td>mpfi</td>\n",
       "      <td>3.19</td>\n",
       "      <td>3.40</td>\n",
       "      <td>10.0</td>\n",
       "      <td>102</td>\n",
       "      <td>5500</td>\n",
       "      <td>24</td>\n",
       "      <td>30</td>\n",
       "      <td>13950</td>\n",
       "    </tr>\n",
       "    <tr>\n",
       "      <th>4</th>\n",
       "      <td>2</td>\n",
       "      <td>164</td>\n",
       "      <td>audi</td>\n",
       "      <td>gas</td>\n",
       "      <td>std</td>\n",
       "      <td>four</td>\n",
       "      <td>sedan</td>\n",
       "      <td>4wd</td>\n",
       "      <td>front</td>\n",
       "      <td>99.4</td>\n",
       "      <td>...</td>\n",
       "      <td>136</td>\n",
       "      <td>mpfi</td>\n",
       "      <td>3.19</td>\n",
       "      <td>3.40</td>\n",
       "      <td>8.0</td>\n",
       "      <td>115</td>\n",
       "      <td>5500</td>\n",
       "      <td>18</td>\n",
       "      <td>22</td>\n",
       "      <td>17450</td>\n",
       "    </tr>\n",
       "  </tbody>\n",
       "</table>\n",
       "<p>5 rows × 26 columns</p>\n",
       "</div>"
      ],
      "text/plain": [
       "   symboling normalized-losses         make fuel-type aspiration num-of-doors  \\\n",
       "0          3                 ?  alfa-romero       gas        std          two   \n",
       "1          3                 ?  alfa-romero       gas        std          two   \n",
       "2          1                 ?  alfa-romero       gas        std          two   \n",
       "3          2               164         audi       gas        std         four   \n",
       "4          2               164         audi       gas        std         four   \n",
       "\n",
       "    body-style drive-wheels engine-location  wheel-base  ...    engine-size  \\\n",
       "0  convertible          rwd           front        88.6  ...            130   \n",
       "1  convertible          rwd           front        88.6  ...            130   \n",
       "2    hatchback          rwd           front        94.5  ...            152   \n",
       "3        sedan          fwd           front        99.8  ...            109   \n",
       "4        sedan          4wd           front        99.4  ...            136   \n",
       "\n",
       "   fuel-system  bore  stroke compression-ration horsepower  peak-rpm city-mpg  \\\n",
       "0         mpfi  3.47    2.68                9.0        111      5000       21   \n",
       "1         mpfi  3.47    2.68                9.0        111      5000       21   \n",
       "2         mpfi  2.68    3.47                9.0        154      5000       19   \n",
       "3         mpfi  3.19    3.40               10.0        102      5500       24   \n",
       "4         mpfi  3.19    3.40                8.0        115      5500       18   \n",
       "\n",
       "  highway-mpg  price  \n",
       "0          27  13495  \n",
       "1          27  16500  \n",
       "2          26  16500  \n",
       "3          30  13950  \n",
       "4          22  17450  \n",
       "\n",
       "[5 rows x 26 columns]"
      ]
     },
     "execution_count": 2,
     "metadata": {},
     "output_type": "execute_result"
    }
   ],
   "source": [
    "cars.head(5)"
   ]
  },
  {
   "cell_type": "markdown",
   "metadata": {},
   "source": [
    "We see that column 2 ('normalized-losses') has many missing values; 41 missing values to be exact, and so we will drop the column, making the total column 25, not 26 anymore."
   ]
  },
  {
   "cell_type": "code",
   "execution_count": 3,
   "metadata": {
    "collapsed": true
   },
   "outputs": [],
   "source": [
    "cars_25cols = cars.drop('normalized-losses', axis=1)"
   ]
  },
  {
   "cell_type": "code",
   "execution_count": 4,
   "metadata": {
    "collapsed": false
   },
   "outputs": [
    {
     "data": {
      "text/html": [
       "<div>\n",
       "<table border=\"1\" class=\"dataframe\">\n",
       "  <thead>\n",
       "    <tr style=\"text-align: right;\">\n",
       "      <th></th>\n",
       "      <th>symboling</th>\n",
       "      <th>make</th>\n",
       "      <th>fuel-type</th>\n",
       "      <th>aspiration</th>\n",
       "      <th>num-of-doors</th>\n",
       "      <th>body-style</th>\n",
       "      <th>drive-wheels</th>\n",
       "      <th>engine-location</th>\n",
       "      <th>wheel-base</th>\n",
       "      <th>length</th>\n",
       "      <th>...</th>\n",
       "      <th>engine-size</th>\n",
       "      <th>fuel-system</th>\n",
       "      <th>bore</th>\n",
       "      <th>stroke</th>\n",
       "      <th>compression-ration</th>\n",
       "      <th>horsepower</th>\n",
       "      <th>peak-rpm</th>\n",
       "      <th>city-mpg</th>\n",
       "      <th>highway-mpg</th>\n",
       "      <th>price</th>\n",
       "    </tr>\n",
       "  </thead>\n",
       "  <tbody>\n",
       "    <tr>\n",
       "      <th>0</th>\n",
       "      <td>3</td>\n",
       "      <td>alfa-romero</td>\n",
       "      <td>gas</td>\n",
       "      <td>std</td>\n",
       "      <td>two</td>\n",
       "      <td>convertible</td>\n",
       "      <td>rwd</td>\n",
       "      <td>front</td>\n",
       "      <td>88.6</td>\n",
       "      <td>168.8</td>\n",
       "      <td>...</td>\n",
       "      <td>130</td>\n",
       "      <td>mpfi</td>\n",
       "      <td>3.47</td>\n",
       "      <td>2.68</td>\n",
       "      <td>9.0</td>\n",
       "      <td>111</td>\n",
       "      <td>5000</td>\n",
       "      <td>21</td>\n",
       "      <td>27</td>\n",
       "      <td>13495</td>\n",
       "    </tr>\n",
       "    <tr>\n",
       "      <th>1</th>\n",
       "      <td>3</td>\n",
       "      <td>alfa-romero</td>\n",
       "      <td>gas</td>\n",
       "      <td>std</td>\n",
       "      <td>two</td>\n",
       "      <td>convertible</td>\n",
       "      <td>rwd</td>\n",
       "      <td>front</td>\n",
       "      <td>88.6</td>\n",
       "      <td>168.8</td>\n",
       "      <td>...</td>\n",
       "      <td>130</td>\n",
       "      <td>mpfi</td>\n",
       "      <td>3.47</td>\n",
       "      <td>2.68</td>\n",
       "      <td>9.0</td>\n",
       "      <td>111</td>\n",
       "      <td>5000</td>\n",
       "      <td>21</td>\n",
       "      <td>27</td>\n",
       "      <td>16500</td>\n",
       "    </tr>\n",
       "    <tr>\n",
       "      <th>2</th>\n",
       "      <td>1</td>\n",
       "      <td>alfa-romero</td>\n",
       "      <td>gas</td>\n",
       "      <td>std</td>\n",
       "      <td>two</td>\n",
       "      <td>hatchback</td>\n",
       "      <td>rwd</td>\n",
       "      <td>front</td>\n",
       "      <td>94.5</td>\n",
       "      <td>171.2</td>\n",
       "      <td>...</td>\n",
       "      <td>152</td>\n",
       "      <td>mpfi</td>\n",
       "      <td>2.68</td>\n",
       "      <td>3.47</td>\n",
       "      <td>9.0</td>\n",
       "      <td>154</td>\n",
       "      <td>5000</td>\n",
       "      <td>19</td>\n",
       "      <td>26</td>\n",
       "      <td>16500</td>\n",
       "    </tr>\n",
       "  </tbody>\n",
       "</table>\n",
       "<p>3 rows × 25 columns</p>\n",
       "</div>"
      ],
      "text/plain": [
       "   symboling         make fuel-type aspiration num-of-doors   body-style  \\\n",
       "0          3  alfa-romero       gas        std          two  convertible   \n",
       "1          3  alfa-romero       gas        std          two  convertible   \n",
       "2          1  alfa-romero       gas        std          two    hatchback   \n",
       "\n",
       "  drive-wheels engine-location  wheel-base  length  ...    engine-size  \\\n",
       "0          rwd           front        88.6   168.8  ...            130   \n",
       "1          rwd           front        88.6   168.8  ...            130   \n",
       "2          rwd           front        94.5   171.2  ...            152   \n",
       "\n",
       "   fuel-system  bore stroke compression-ration  horsepower peak-rpm city-mpg  \\\n",
       "0         mpfi  3.47   2.68                9.0         111     5000       21   \n",
       "1         mpfi  3.47   2.68                9.0         111     5000       21   \n",
       "2         mpfi  2.68   3.47                9.0         154     5000       19   \n",
       "\n",
       "  highway-mpg  price  \n",
       "0          27  13495  \n",
       "1          27  16500  \n",
       "2          26  16500  \n",
       "\n",
       "[3 rows x 25 columns]"
      ]
     },
     "execution_count": 4,
     "metadata": {},
     "output_type": "execute_result"
    }
   ],
   "source": [
    "cars_25cols.head(3)"
   ]
  },
  {
   "cell_type": "code",
   "execution_count": 5,
   "metadata": {
    "collapsed": false
   },
   "outputs": [
    {
     "data": {
      "text/plain": [
       "(205, 25)"
      ]
     },
     "execution_count": 5,
     "metadata": {},
     "output_type": "execute_result"
    }
   ],
   "source": [
    "cars_25cols.shape"
   ]
  },
  {
   "cell_type": "markdown",
   "metadata": {},
   "source": [
    "For the rest of the missing values, we will drop the rows that contain the missing values. To do this, we will find the cells that contain the \"?\" value and then just keep the ones that do not contain the \"?\" value."
   ]
  },
  {
   "cell_type": "code",
   "execution_count": 6,
   "metadata": {
    "collapsed": true
   },
   "outputs": [],
   "source": [
    "cars_no_qmarks = cars_25cols[~cars_25cols.isin([\"?\"]).any(axis=1)]"
   ]
  },
  {
   "cell_type": "code",
   "execution_count": 7,
   "metadata": {
    "collapsed": false
   },
   "outputs": [
    {
     "data": {
      "text/plain": [
       "(193, 25)"
      ]
     },
     "execution_count": 7,
     "metadata": {},
     "output_type": "execute_result"
    }
   ],
   "source": [
    "cars_no_qmarks.shape"
   ]
  },
  {
   "cell_type": "code",
   "execution_count": 8,
   "metadata": {
    "collapsed": false
   },
   "outputs": [
    {
     "data": {
      "text/plain": [
       "0"
      ]
     },
     "execution_count": 8,
     "metadata": {},
     "output_type": "execute_result"
    }
   ],
   "source": [
    "# Check if column 'num-of-doors' still contain \"?\"\n",
    "\n",
    "num_qmark = len(cars_no_qmarks[cars_no_qmarks['num-of-doors'] == '?'])\n",
    "num_qmark"
   ]
  },
  {
   "cell_type": "code",
   "execution_count": 9,
   "metadata": {
    "collapsed": false
   },
   "outputs": [
    {
     "data": {
      "text/plain": [
       "0"
      ]
     },
     "execution_count": 9,
     "metadata": {},
     "output_type": "execute_result"
    }
   ],
   "source": [
    "# Check column 'bore' if it still contains \"?\"\n",
    "len(cars_no_qmarks[cars_no_qmarks['bore'] == \"?\"])"
   ]
  },
  {
   "cell_type": "code",
   "execution_count": 10,
   "metadata": {
    "collapsed": false
   },
   "outputs": [
    {
     "data": {
      "text/plain": [
       "0"
      ]
     },
     "execution_count": 10,
     "metadata": {},
     "output_type": "execute_result"
    }
   ],
   "source": [
    "# Check column \"stroke\" if it contains \"?\"\n",
    "len(cars_no_qmarks[cars_no_qmarks['stroke'] == \"?\"])"
   ]
  },
  {
   "cell_type": "markdown",
   "metadata": {},
   "source": [
    "We will check the last three columns if they still contain the \"?\" values"
   ]
  },
  {
   "cell_type": "code",
   "execution_count": 11,
   "metadata": {
    "collapsed": false
   },
   "outputs": [
    {
     "data": {
      "text/plain": [
       "0"
      ]
     },
     "execution_count": 11,
     "metadata": {},
     "output_type": "execute_result"
    }
   ],
   "source": [
    "len(cars_no_qmarks[cars_no_qmarks['horsepower'] == \"?\"])"
   ]
  },
  {
   "cell_type": "code",
   "execution_count": 12,
   "metadata": {
    "collapsed": false
   },
   "outputs": [
    {
     "data": {
      "text/plain": [
       "0"
      ]
     },
     "execution_count": 12,
     "metadata": {},
     "output_type": "execute_result"
    }
   ],
   "source": [
    "len(cars_no_qmarks[cars_no_qmarks['peak-rpm'] == \"?\"])"
   ]
  },
  {
   "cell_type": "code",
   "execution_count": 13,
   "metadata": {
    "collapsed": false
   },
   "outputs": [
    {
     "data": {
      "text/plain": [
       "0"
      ]
     },
     "execution_count": 13,
     "metadata": {},
     "output_type": "execute_result"
    }
   ],
   "source": [
    "len(cars_no_qmarks[cars_no_qmarks['price'] == \"?\"])"
   ]
  },
  {
   "cell_type": "markdown",
   "metadata": {},
   "source": [
    "# Normalize Values"
   ]
  },
  {
   "cell_type": "markdown",
   "metadata": {},
   "source": [
    "Now that all the missing values are handled, we will normalize the numeric values since the data contain various ranges of values. We focus on the numeric values because we will use the K-Nearest Neighbors algorithm, where we want to have meaningful numerical values to calculate distance. First we want to find which columns contain numeric values."
   ]
  },
  {
   "cell_type": "code",
   "execution_count": 14,
   "metadata": {
    "collapsed": false
   },
   "outputs": [
    {
     "data": {
      "text/plain": [
       "symboling               int64\n",
       "make                   object\n",
       "fuel-type              object\n",
       "aspiration             object\n",
       "num-of-doors           object\n",
       "body-style             object\n",
       "drive-wheels           object\n",
       "engine-location        object\n",
       "wheel-base            float64\n",
       "length                float64\n",
       "width                 float64\n",
       "height                float64\n",
       "curb-weight             int64\n",
       "engine-type            object\n",
       "num-of-cylinders       object\n",
       "engine-size             int64\n",
       "fuel-system            object\n",
       "bore                   object\n",
       "stroke                 object\n",
       "compression-ration    float64\n",
       "horsepower             object\n",
       "peak-rpm               object\n",
       "city-mpg                int64\n",
       "highway-mpg             int64\n",
       "price                  object\n",
       "dtype: object"
      ]
     },
     "execution_count": 14,
     "metadata": {},
     "output_type": "execute_result"
    }
   ],
   "source": [
    "cars_no_qmarks.dtypes"
   ]
  },
  {
   "cell_type": "code",
   "execution_count": 15,
   "metadata": {
    "collapsed": false
   },
   "outputs": [],
   "source": [
    "numeric_cols = ['symboling', 'wheel-base', 'length', 'width' ,'height', 'curb-weight',\\\n",
    "                'engine-size', 'compression-ration', 'city-mpg', 'highway-mpg']\n",
    "normalized_cars = (cars_no_qmarks[numeric_cols] - cars_no_qmarks[numeric_cols].mean()) / cars_no_qmarks.std()"
   ]
  },
  {
   "cell_type": "code",
   "execution_count": 16,
   "metadata": {
    "collapsed": false
   },
   "outputs": [
    {
     "data": {
      "text/plain": [
       "(193, 10)"
      ]
     },
     "execution_count": 16,
     "metadata": {},
     "output_type": "execute_result"
    }
   ],
   "source": [
    "normalized_cars.shape"
   ]
  },
  {
   "cell_type": "code",
   "execution_count": 17,
   "metadata": {
    "collapsed": false
   },
   "outputs": [
    {
     "data": {
      "text/html": [
       "<div>\n",
       "<table border=\"1\" class=\"dataframe\">\n",
       "  <thead>\n",
       "    <tr style=\"text-align: right;\">\n",
       "      <th></th>\n",
       "      <th>symboling</th>\n",
       "      <th>wheel-base</th>\n",
       "      <th>length</th>\n",
       "      <th>width</th>\n",
       "      <th>height</th>\n",
       "      <th>curb-weight</th>\n",
       "      <th>engine-size</th>\n",
       "      <th>compression-ration</th>\n",
       "      <th>city-mpg</th>\n",
       "      <th>highway-mpg</th>\n",
       "      <th>price</th>\n",
       "    </tr>\n",
       "  </thead>\n",
       "  <tbody>\n",
       "    <tr>\n",
       "      <th>0</th>\n",
       "      <td>1.782215</td>\n",
       "      <td>-1.678015</td>\n",
       "      <td>-0.442872</td>\n",
       "      <td>-0.83908</td>\n",
       "      <td>-2.117092</td>\n",
       "      <td>-0.025646</td>\n",
       "      <td>0.045098</td>\n",
       "      <td>-0.287525</td>\n",
       "      <td>-0.677292</td>\n",
       "      <td>-0.555613</td>\n",
       "      <td>13495</td>\n",
       "    </tr>\n",
       "    <tr>\n",
       "      <th>1</th>\n",
       "      <td>1.782215</td>\n",
       "      <td>-1.678015</td>\n",
       "      <td>-0.442872</td>\n",
       "      <td>-0.83908</td>\n",
       "      <td>-2.117092</td>\n",
       "      <td>-0.025646</td>\n",
       "      <td>0.045098</td>\n",
       "      <td>-0.287525</td>\n",
       "      <td>-0.677292</td>\n",
       "      <td>-0.555613</td>\n",
       "      <td>16500</td>\n",
       "    </tr>\n",
       "    <tr>\n",
       "      <th>2</th>\n",
       "      <td>0.163544</td>\n",
       "      <td>-0.719041</td>\n",
       "      <td>-0.250543</td>\n",
       "      <td>-0.18420</td>\n",
       "      <td>-0.613816</td>\n",
       "      <td>0.496473</td>\n",
       "      <td>0.574066</td>\n",
       "      <td>-0.287525</td>\n",
       "      <td>-0.990387</td>\n",
       "      <td>-0.702307</td>\n",
       "      <td>16500</td>\n",
       "    </tr>\n",
       "  </tbody>\n",
       "</table>\n",
       "</div>"
      ],
      "text/plain": [
       "   symboling  wheel-base    length    width    height  curb-weight  \\\n",
       "0   1.782215   -1.678015 -0.442872 -0.83908 -2.117092    -0.025646   \n",
       "1   1.782215   -1.678015 -0.442872 -0.83908 -2.117092    -0.025646   \n",
       "2   0.163544   -0.719041 -0.250543 -0.18420 -0.613816     0.496473   \n",
       "\n",
       "   engine-size  compression-ration  city-mpg  highway-mpg  price  \n",
       "0     0.045098           -0.287525 -0.677292    -0.555613  13495  \n",
       "1     0.045098           -0.287525 -0.677292    -0.555613  16500  \n",
       "2     0.574066           -0.287525 -0.990387    -0.702307  16500  "
      ]
     },
     "execution_count": 17,
     "metadata": {},
     "output_type": "execute_result"
    }
   ],
   "source": [
    "normalized_cars['price'] = cars_no_qmarks['price'].astype('int64')\n",
    "normalized_cars.head(3)"
   ]
  },
  {
   "cell_type": "code",
   "execution_count": 18,
   "metadata": {
    "collapsed": false
   },
   "outputs": [
    {
     "data": {
      "text/plain": [
       "dtype('int64')"
      ]
     },
     "execution_count": 18,
     "metadata": {},
     "output_type": "execute_result"
    }
   ],
   "source": [
    "normalized_cars['price'].dtype"
   ]
  },
  {
   "cell_type": "markdown",
   "metadata": {},
   "source": [
    "# Univariate KNN: Default k value = 5"
   ]
  },
  {
   "cell_type": "code",
   "execution_count": 19,
   "metadata": {
    "collapsed": false
   },
   "outputs": [],
   "source": [
    "from sklearn.neighbors import KNeighborsRegressor\n",
    "from sklearn.metrics import mean_squared_error\n",
    "import numpy as np\n",
    "\n",
    "def knn_train_test(col_name, df):\n",
    "    if df[col_name].dtype != 'float64':\n",
    "        print(\"Type Error. Please enter numeric values.\")\n",
    "        return\n",
    "    elif col_name not in df.columns:\n",
    "        print(\"Error. DataFrame does not contain column with such name.\")\n",
    "        return\n",
    "    else:\n",
    "        # We want train data to be 70% and test data 30%.\n",
    "        cutoff_index = int(0.7 * df.shape[0])\n",
    "        train_df = df.iloc[:cutoff_index]\n",
    "        test_df = df.iloc[cutoff_index:]\n",
    "        model = KNeighborsRegressor()\n",
    "        model.fit(train_df[[col_name]], train_df['price'])#\n",
    "        predictions = model.predict(test_df[[col_name]])\n",
    "        mse = mean_squared_error(test_df['price'], predictions)\n",
    "        rmse = np.sqrt(mse)\n",
    "        return rmse\n",
    "    "
   ]
  },
  {
   "cell_type": "code",
   "execution_count": 20,
   "metadata": {
    "collapsed": false
   },
   "outputs": [
    {
     "name": "stdout",
     "output_type": "stream",
     "text": [
      "rmses:  [8091.6635455561773, 6003.9979820346261, 6883.8329429328032, 2841.4592964009616, 7104.2794730869182, 2387.8725410737052, 3080.8687976406691, 7264.8189807763456, 3247.46910664608, 3073.1946919261004]\n",
      "lowest_rmse:  2387.87254107\n",
      "lowest_col:  curb-weight\n"
     ]
    }
   ],
   "source": [
    "# We want to see which one of the numeric column generates the lowest rmse\n",
    "\n",
    "lowest_rmse = None\n",
    "lowest_col = None\n",
    "rmses = list()\n",
    "for col in numeric_cols:\n",
    "    rmse = knn_train_test(col, normalized_cars)\n",
    "    rmses.append(rmse)\n",
    "    # Initialize lowest_rmse to the rmse from the first col 'symboling'\n",
    "    if col == 'symboling':\n",
    "        lowest_rmse = rmse\n",
    "        lowest_col = col\n",
    "    else:\n",
    "        # Regular case: check if rmse is lower than lowest_rmse\n",
    "        if rmse < lowest_rmse:\n",
    "            lowest_rmse = rmse\n",
    "            lowest_col = col\n",
    "print(\"rmses: \", rmses)\n",
    "print(\"lowest_rmse: \", lowest_rmse)\n",
    "print(\"lowest_col: \", lowest_col)"
   ]
  },
  {
   "cell_type": "markdown",
   "metadata": {},
   "source": [
    "The 'curb-weight' column seems to have the lowest RMSE with 2387.87254107. Now we want to see if using different k would generate different results."
   ]
  },
  {
   "cell_type": "markdown",
   "metadata": {},
   "source": [
    "# Univariate KNN: various k values"
   ]
  },
  {
   "cell_type": "code",
   "execution_count": 21,
   "metadata": {
    "collapsed": true
   },
   "outputs": [],
   "source": [
    "# We will modify the knn_train_test() function to add k as parameter\n",
    "\n",
    "def knn_train_test(col_name, df, k):\n",
    "    if df[col_name].dtype != 'float64':\n",
    "        print(\"Type Error. Please enter numeric values.\")\n",
    "        return\n",
    "    elif col_name not in df.columns:\n",
    "        print(\"Error. DataFrame does not contain column with such name.\")\n",
    "        return\n",
    "    else:\n",
    "        # We want train data to be 70% and test data 30%.\n",
    "        cutoff_index = int(0.7 * df.shape[0])\n",
    "        train_df = df.iloc[:cutoff_index]\n",
    "        test_df = df.iloc[cutoff_index:]\n",
    "        model = KNeighborsRegressor(n_neighbors=k)\n",
    "        model.fit(train_df[[col_name]], train_df['price'])\n",
    "        predictions = model.predict(test_df[[col_name]])\n",
    "        mse = mean_squared_error(test_df['price'], predictions)\n",
    "        rmse = np.sqrt(mse)\n",
    "        return rmse"
   ]
  },
  {
   "cell_type": "code",
   "execution_count": 22,
   "metadata": {
    "collapsed": false
   },
   "outputs": [
    {
     "name": "stdout",
     "output_type": "stream",
     "text": [
      "{1: {'curb-weight': 3460.3310211397506}, 2: {'curb-weight': 2323.0064293259402}, 3: {'curb-weight': 2419.6122623263423}, 4: {'curb-weight': 2413.3404621856434}, 5: {'curb-weight': 2387.8725410737052}, 6: {'curb-weight': 2499.3521769846079}, 7: {'curb-weight': 2546.961081678201}, 8: {'curb-weight': 2665.0263760158009}, 9: {'width': 2751.1240896595309}, 10: {'width': 2712.0437910333894}}\n"
     ]
    }
   ],
   "source": [
    "# Run the same routine in checking which column gives out the lowest rmse\n",
    "# Create a dictionary of k values as key and another dictionary containing lowest col as key and lowest rmse as value\n",
    "\n",
    "k_values = [1,2,3,4,5,6,7,8,9,10]\n",
    "lowest_rmses = list()\n",
    "k_lowest_rmse = dict()\n",
    "lowest_rmse = None\n",
    "lowest_col = None\n",
    "rmses = list()\n",
    "for k in k_values:\n",
    "    for col in numeric_cols:\n",
    "        rmse = knn_train_test(col, normalized_cars, k)\n",
    "        rmses.append(rmse)\n",
    "        # Initialize lowest_rmse to the rmse from the first col 'symboling'\n",
    "        if col == 'symboling':\n",
    "            lowest_rmse = rmse\n",
    "            lowest_col = col\n",
    "        else:\n",
    "            # Regular case: check if rmse is lower than lowest_rmse\n",
    "            if rmse < lowest_rmse:\n",
    "                lowest_rmse = rmse\n",
    "                lowest_col = col\n",
    "    lowest_rmses.append(lowest_rmse)\n",
    "    k_lowest_rmse[k] = {lowest_col: lowest_rmse}\n",
    "\n",
    "print(k_lowest_rmse)"
   ]
  },
  {
   "cell_type": "code",
   "execution_count": 23,
   "metadata": {
    "collapsed": false
   },
   "outputs": [
    {
     "data": {
      "text/plain": [
       "[<matplotlib.lines.Line2D at 0x113e6cf60>]"
      ]
     },
     "execution_count": 23,
     "metadata": {},
     "output_type": "execute_result"
    },
    {
     "data": {
      "image/png": "[encoded data removed]",
      "text/plain": [
       "<matplotlib.figure.Figure at 0x10e087240>"
      ]
     },
     "metadata": {},
     "output_type": "display_data"
    }
   ],
   "source": [
    "import matplotlib.pyplot as plt\n",
    "%matplotlib inline\n",
    "\n",
    "plt.plot(k_values, lowest_rmses)"
   ]
  },
  {
   "cell_type": "markdown",
   "metadata": {},
   "source": [
    "We see that the optimal k value is 2, with rmse of 2323.0064293259402, generated using the 'curb-weight' feature."
   ]
  },
  {
   "cell_type": "markdown",
   "metadata": {},
   "source": [
    "# Multivariate KNN"
   ]
  },
  {
   "cell_type": "code",
   "execution_count": 24,
   "metadata": {
    "collapsed": true
   },
   "outputs": [],
   "source": [
    "# We are modifying the knn_train_test to accept multiple columns for training\n",
    "\n",
    "def knn_train_test(col_names, df, k):\n",
    "    for col in col_names:\n",
    "        if df[col].dtype != 'float64':\n",
    "            print(\"Type Error. Please enter numeric values.\")\n",
    "            return\n",
    "        elif col not in df.columns:\n",
    "            print(\"Error. DataFrame does not contain column with such name.\")\n",
    "            return\n",
    "    # We want train data to be 70% and test data 30%.\n",
    "    cutoff_index = int(0.7 * df.shape[0])\n",
    "    train_df = df.iloc[:cutoff_index]\n",
    "    test_df = df.iloc[cutoff_index:]\n",
    "    model = KNeighborsRegressor(n_neighbors=k)\n",
    "    model.fit(train_df[col_names], train_df['price'])\n",
    "    predictions = model.predict(test_df[col_names])\n",
    "    mse = mean_squared_error(test_df['price'], predictions)\n",
    "    rmse = np.sqrt(mse)\n",
    "    return rmse"
   ]
  },
  {
   "cell_type": "markdown",
   "metadata": {},
   "source": [
    "# Using all columns"
   ]
  },
  {
   "cell_type": "code",
   "execution_count": 25,
   "metadata": {
    "collapsed": false
   },
   "outputs": [
    {
     "name": "stdout",
     "output_type": "stream",
     "text": [
      "{1: 3372.0789734892442, 2: 3216.1367587312066, 3: 2647.5701992147656, 4: 2530.1894866515568, 5: 2304.4463553807423, 6: 2304.4463553807423, 7: 2264.5335243798249, 8: 2181.2030481064721, 9: 2012.3289631938867, 10: 1987.1537702765074}\n"
     ]
    }
   ],
   "source": [
    "# We use all columns\n",
    "\n",
    "k_values = [1,2,3,4,5,6,7,8,9,10]\n",
    "lowest_rmses = list()\n",
    "k_lowest_rmse = dict()\n",
    "lowest_rmse = None\n",
    "rmses = list()\n",
    "for k in k_values:\n",
    "    rmse = knn_train_test(numeric_cols, normalized_cars, k)\n",
    "    rmses.append(rmse)\n",
    "    # Initialize lowest_rmse to the rmse from the first k value\n",
    "    if k == 1:\n",
    "        lowest_rmse = rmse\n",
    "    else:\n",
    "        # Regular case: check if rmse is lower than lowest_rmse\n",
    "        if rmse < lowest_rmse:\n",
    "            lowest_rmse = rmse\n",
    "    lowest_rmses.append(lowest_rmse)\n",
    "    k_lowest_rmse[k] = lowest_rmse\n",
    "\n",
    "print(k_lowest_rmse)"
   ]
  },
  {
   "cell_type": "code",
   "execution_count": 26,
   "metadata": {
    "collapsed": false
   },
   "outputs": [
    {
     "data": {
      "text/plain": [
       "[<matplotlib.lines.Line2D at 0x113f2be80>]"
      ]
     },
     "execution_count": 26,
     "metadata": {},
     "output_type": "execute_result"
    },
    {
     "data": {
      "image/png": "[encoded data removed]",
      "text/plain": [
       "<matplotlib.figure.Figure at 0x113e875c0>"
      ]
     },
     "metadata": {},
     "output_type": "display_data"
    }
   ],
   "source": [
    "plt.plot(k_values, lowest_rmses)"
   ]
  },
  {
   "cell_type": "markdown",
   "metadata": {},
   "source": [
    "It looks like using all columns generates an increasingly lower RMSE. We will increase the k values to see if it keeps getting lower."
   ]
  },
  {
   "cell_type": "code",
   "execution_count": 27,
   "metadata": {
    "collapsed": false
   },
   "outputs": [
    {
     "data": {
      "text/plain": [
       "[<matplotlib.lines.Line2D at 0x113f64400>]"
      ]
     },
     "execution_count": 27,
     "metadata": {},
     "output_type": "execute_result"
    },
    {
     "data": {
      "image/png": "[encoded data removed]",
      "text/plain": [
       "<matplotlib.figure.Figure at 0x113e93438>"
      ]
     },
     "metadata": {},
     "output_type": "display_data"
    }
   ],
   "source": [
    "k_values = list(range(10,31))\n",
    "lowest_rmses = list()\n",
    "k_lowest_rmse = dict()\n",
    "lowest_rmse = None\n",
    "rmses = list()\n",
    "for k in k_values:\n",
    "    rmse = knn_train_test(numeric_cols, normalized_cars, k)\n",
    "    rmses.append(rmse)\n",
    "    # Initialize lowest_rmse to the rmse from the first k value\n",
    "    if k == 10:\n",
    "        lowest_rmse = rmse\n",
    "    else:\n",
    "        # Regular case: check if rmse is lower than lowest_rmse\n",
    "        if rmse < lowest_rmse:\n",
    "            lowest_rmse = rmse\n",
    "    lowest_rmses.append(lowest_rmse)\n",
    "    k_lowest_rmse[k] = lowest_rmse\n",
    "    \n",
    "plt.plot(k_values, lowest_rmses)"
   ]
  },
  {
   "cell_type": "code",
   "execution_count": 28,
   "metadata": {
    "collapsed": false
   },
   "outputs": [
    {
     "data": {
      "text/plain": [
       "{10: 1987.1537702765074,\n",
       " 11: 1954.5231078404674,\n",
       " 12: 1884.5927651154959,\n",
       " 13: 1812.9806248474447,\n",
       " 14: 1775.2132165950322,\n",
       " 15: 1721.1845465313679,\n",
       " 16: 1633.8948697040305,\n",
       " 17: 1568.3458112804356,\n",
       " 18: 1565.0675654961037,\n",
       " 19: 1565.0675654961037,\n",
       " 20: 1546.6416642056738,\n",
       " 21: 1546.6416642056738,\n",
       " 22: 1546.6416642056738,\n",
       " 23: 1546.6416642056738,\n",
       " 24: 1546.6416642056738,\n",
       " 25: 1546.6416642056738,\n",
       " 26: 1546.6416642056738,\n",
       " 27: 1546.6416642056738,\n",
       " 28: 1546.6416642056738,\n",
       " 29: 1546.6416642056738,\n",
       " 30: 1546.6416642056738}"
      ]
     },
     "execution_count": 28,
     "metadata": {},
     "output_type": "execute_result"
    }
   ],
   "source": [
    "k_lowest_rmse"
   ]
  },
  {
   "cell_type": "markdown",
   "metadata": {},
   "source": [
    "Here we see a saturation point where the RMSE goes flat at k = 20 and at the lowest at 1546.6416642056738."
   ]
  },
  {
   "cell_type": "markdown",
   "metadata": {},
   "source": [
    "# Using 2 features"
   ]
  },
  {
   "cell_type": "code",
   "execution_count": 29,
   "metadata": {
    "collapsed": false
   },
   "outputs": [
    {
     "data": {
      "text/plain": [
       "[<matplotlib.lines.Line2D at 0x1141d34a8>]"
      ]
     },
     "execution_count": 29,
     "metadata": {},
     "output_type": "execute_result"
    },
    {
     "data": {
      "image/png": "[encoded data removed]",
      "text/plain": [
       "<matplotlib.figure.Figure at 0x113f3d710>"
      ]
     },
     "metadata": {},
     "output_type": "display_data"
    }
   ],
   "source": [
    "# We want to see if using only two columns that previously generated lowest RMSE would further lower the RMSE\n",
    "\n",
    "k_values = list(range(1,31))\n",
    "\n",
    "lowest_rmses = list()\n",
    "k_lowest_rmse = dict()\n",
    "lowest_rmse = None\n",
    "rmses = list()\n",
    "for k in k_values:\n",
    "    rmse = knn_train_test(['curb-weight', 'width'], normalized_cars, k)\n",
    "    rmses.append(rmse)\n",
    "    # Initialize lowest_rmse to the rmse from the first k value\n",
    "    if k == 1:\n",
    "        lowest_rmse = rmse\n",
    "    else:\n",
    "        # Regular case: check if rmse is lower than lowest_rmse\n",
    "        if rmse < lowest_rmse:\n",
    "            lowest_rmse = rmse\n",
    "    lowest_rmses.append(lowest_rmse)\n",
    "    k_lowest_rmse[k] = lowest_rmse\n",
    "    \n",
    "plt.plot(k_values, lowest_rmses)"
   ]
  },
  {
   "cell_type": "markdown",
   "metadata": {},
   "source": [
    "We see here that the lowest RMSE is still above 2000, which makes it higher than the lowest RMSE we got using all columns. But what if we incrase the k values? "
   ]
  },
  {
   "cell_type": "code",
   "execution_count": 30,
   "metadata": {
    "collapsed": false
   },
   "outputs": [
    {
     "data": {
      "text/plain": [
       "[<matplotlib.lines.Line2D at 0x1144eb6d8>]"
      ]
     },
     "execution_count": 30,
     "metadata": {},
     "output_type": "execute_result"
    },
    {
     "data": {
      "image/png": "[encoded data removed]",
      "text/plain": [
       "<matplotlib.figure.Figure at 0x1141e1080>"
      ]
     },
     "metadata": {},
     "output_type": "display_data"
    }
   ],
   "source": [
    "k_values = list(range(30, 41))\n",
    "\n",
    "lowest_rmses = list()\n",
    "k_lowest_rmse = dict()\n",
    "lowest_rmse = None\n",
    "rmses = list()\n",
    "for k in k_values:\n",
    "    rmse = knn_train_test(['curb-weight', 'width'], normalized_cars, k)\n",
    "    rmses.append(rmse)\n",
    "    # Initialize lowest_rmse to the rmse from the first k value\n",
    "    if k == 30:\n",
    "        lowest_rmse = rmse\n",
    "    else:\n",
    "        # Regular case: check if rmse is lower than lowest_rmse\n",
    "        if rmse < lowest_rmse:\n",
    "            lowest_rmse = rmse\n",
    "    lowest_rmses.append(lowest_rmse)\n",
    "    k_lowest_rmse[k] = lowest_rmse\n",
    "    \n",
    "plt.plot(k_values, lowest_rmses)"
   ]
  },
  {
   "cell_type": "code",
   "execution_count": 31,
   "metadata": {
    "collapsed": false
   },
   "outputs": [
    {
     "data": {
      "text/plain": [
       "{30: 2203.4647283364875,\n",
       " 31: 2203.4647283364875,\n",
       " 32: 2192.3429246491432,\n",
       " 33: 2192.3429246491432,\n",
       " 34: 2192.3429246491432,\n",
       " 35: 2192.3429246491432,\n",
       " 36: 2192.3429246491432,\n",
       " 37: 2192.3429246491432,\n",
       " 38: 2192.3429246491432,\n",
       " 39: 2192.3429246491432,\n",
       " 40: 2192.3429246491432}"
      ]
     },
     "execution_count": 31,
     "metadata": {},
     "output_type": "execute_result"
    }
   ],
   "source": [
    "k_lowest_rmse"
   ]
  },
  {
   "cell_type": "markdown",
   "metadata": {},
   "source": [
    "It looks like the RMSE plunges sharply and then plateaus at k=32 with RMSE 2192.3429246491432."
   ]
  },
  {
   "cell_type": "markdown",
   "metadata": {},
   "source": [
    "# Using 3 features\n"
   ]
  },
  {
   "cell_type": "code",
   "execution_count": 32,
   "metadata": {
    "collapsed": false
   },
   "outputs": [
    {
     "name": "stdout",
     "output_type": "stream",
     "text": [
      "{1: 3877.8860776245715, 2: 3073.465223938384, 3: 2542.8462531285309, 4: 2270.8035139874896, 5: 2270.8035139874896, 6: 2139.3856626167149, 7: 2063.7938703607233, 8: 2021.5589701983031, 9: 1978.8517263705126, 10: 1907.4146039546069, 11: 1865.492401363251, 12: 1714.8003189468309, 13: 1666.8417389719473, 14: 1618.0242367685919, 15: 1618.0242367685919, 16: 1618.0242367685919, 17: 1618.0242367685919, 18: 1595.4656027703147, 19: 1594.2182037605903, 20: 1591.6031978198412, 21: 1591.6031978198412, 22: 1591.6031978198412, 23: 1591.6031978198412, 24: 1591.6031978198412, 25: 1591.6031978198412, 26: 1591.6031978198412, 27: 1591.6031978198412, 28: 1591.6031978198412, 29: 1591.6031978198412, 30: 1591.6031978198412, 31: 1591.6031978198412, 32: 1591.6031978198412, 33: 1591.6031978198412, 34: 1591.6031978198412, 35: 1591.6031978198412, 36: 1591.6031978198412, 37: 1591.6031978198412, 38: 1591.6031978198412, 39: 1591.6031978198412, 40: 1591.6031978198412}\n"
     ]
    },
    {
     "data": {
      "text/plain": [
       "[<matplotlib.lines.Line2D at 0x114295a58>]"
      ]
     },
     "execution_count": 32,
     "metadata": {},
     "output_type": "execute_result"
    },
    {
     "data": {
      "image/png": "[encoded data removed]",
      "text/plain": [
       "<matplotlib.figure.Figure at 0x1144be550>"
      ]
     },
     "metadata": {},
     "output_type": "display_data"
    }
   ],
   "source": [
    "# We will use 'curb-weight', 'width', and 'city-mpg'\n",
    "\n",
    "k_values = list(range(1, 41))\n",
    "\n",
    "lowest_rmses = list()\n",
    "k_lowest_rmse = dict()\n",
    "lowest_rmse = None\n",
    "rmses = list()\n",
    "for k in k_values:\n",
    "    rmse = knn_train_test(['curb-weight', 'width', 'city-mpg'], normalized_cars, k)\n",
    "    rmses.append(rmse)\n",
    "    # Initialize lowest_rmse to the rmse from the first k value\n",
    "    if k == 1:\n",
    "        lowest_rmse = rmse\n",
    "    else:\n",
    "        # Regular case: check if rmse is lower than lowest_rmse\n",
    "        if rmse < lowest_rmse:\n",
    "            lowest_rmse = rmse\n",
    "    lowest_rmses.append(lowest_rmse)\n",
    "    k_lowest_rmse[k] = lowest_rmse\n",
    "print(k_lowest_rmse)\n",
    "plt.plot(k_values, lowest_rmses)"
   ]
  },
  {
   "cell_type": "markdown",
   "metadata": {},
   "source": [
    "Using 3 columns improves the RMSE result from the previous trial that used 2 columns. Now we achieve RMSE of 1591.6031978198412 at k=20. It is, however, still slightly higher than our lowest RMSE of 1546.6416642056738.\n",
    "\n",
    "Now we want to try using 4 columns: 'curb-weight', 'width', 'city-mpg', and 'highway-mpg'"
   ]
  },
  {
   "cell_type": "code",
   "execution_count": 33,
   "metadata": {
    "collapsed": false
   },
   "outputs": [
    {
     "name": "stdout",
     "output_type": "stream",
     "text": [
      "{1: 3706.6936679844293, 2: 2459.0004583794498, 3: 2404.0387135017868, 4: 2129.1619278688522, 5: 2129.1619278688522, 6: 2129.1619278688522, 7: 2126.7191397636448, 8: 2052.2215974848305, 9: 2044.8997072959608, 10: 2039.7577907260425, 11: 1979.1968591278462, 12: 1881.4486277379592, 13: 1794.4957597409416, 14: 1777.1988789866762, 15: 1760.4817488098877, 16: 1760.4817488098877, 17: 1717.2818614275629, 18: 1695.8229671204219, 19: 1670.7714991519488, 20: 1670.7714991519488, 21: 1670.7714991519488, 22: 1670.7714991519488, 23: 1670.7714991519488, 24: 1670.7714991519488, 25: 1670.7714991519488, 26: 1670.7714991519488, 27: 1670.7714991519488, 28: 1670.7714991519488, 29: 1670.7714991519488, 30: 1670.7714991519488, 31: 1670.7714991519488, 32: 1670.7714991519488, 33: 1670.7714991519488, 34: 1670.7714991519488, 35: 1670.7714991519488, 36: 1670.7714991519488, 37: 1670.7714991519488, 38: 1670.7714991519488, 39: 1670.7714991519488, 40: 1670.7714991519488}\n"
     ]
    },
    {
     "data": {
      "text/plain": [
       "[<matplotlib.lines.Line2D at 0x1147f1320>]"
      ]
     },
     "execution_count": 33,
     "metadata": {},
     "output_type": "execute_result"
    },
    {
     "data": {
      "image/png": "[encoded data removed]",
      "text/plain": [
       "<matplotlib.figure.Figure at 0x113f4c5c0>"
      ]
     },
     "metadata": {},
     "output_type": "display_data"
    }
   ],
   "source": [
    "# Using 4 columns:'curb-weight', 'width', 'city-mpg', and 'highway-mpg'\n",
    "\n",
    "k_values = list(range(1, 41))\n",
    "\n",
    "lowest_rmses = list()\n",
    "k_lowest_rmse = dict()\n",
    "lowest_rmse = None\n",
    "rmses = list()\n",
    "for k in k_values:\n",
    "    rmse = knn_train_test(['curb-weight', 'width', 'city-mpg', 'highway-mpg'], normalized_cars, k)\n",
    "    rmses.append(rmse)\n",
    "    # Initialize lowest_rmse to the rmse from the first k value\n",
    "    if k == 1:\n",
    "        lowest_rmse = rmse\n",
    "    else:\n",
    "        # Regular case: check if rmse is lower than lowest_rmse\n",
    "        if rmse < lowest_rmse:\n",
    "            lowest_rmse = rmse\n",
    "    lowest_rmses.append(lowest_rmse)\n",
    "    k_lowest_rmse[k] = lowest_rmse\n",
    "print(k_lowest_rmse)\n",
    "plt.plot(k_values, lowest_rmses)"
   ]
  },
  {
   "cell_type": "markdown",
   "metadata": {},
   "source": [
    "This one turns out to be not that great since the lowest RMSE is 1670.7714991519488, which is much higher than the 3-column trial. But what if we substitute 'highway-mpg' with 'engine-size'?"
   ]
  },
  {
   "cell_type": "markdown",
   "metadata": {},
   "source": [
    "# Using 4 features"
   ]
  },
  {
   "cell_type": "code",
   "execution_count": 34,
   "metadata": {
    "collapsed": false
   },
   "outputs": [
    {
     "name": "stdout",
     "output_type": "stream",
     "text": [
      "{1: 3366.3290734915508, 2: 2520.2910298217544, 3: 2495.4802538425361, 4: 2299.0423270934448, 5: 2174.8708794015715, 6: 2094.3198829287403, 7: 2094.3198829287403, 8: 2094.3198829287403, 9: 2074.4634627181085, 10: 1941.5358333652714, 11: 1858.8338239210568, 12: 1858.8338239210568, 13: 1811.3021724962896, 14: 1811.3021724962896, 15: 1811.3021724962896, 16: 1811.3021724962896, 17: 1811.3021724962896, 18: 1811.3021724962896, 19: 1806.7916179679894, 20: 1806.7916179679894, 21: 1806.7916179679894, 22: 1806.7916179679894, 23: 1806.7916179679894, 24: 1806.7916179679894, 25: 1806.7916179679894, 26: 1806.7916179679894, 27: 1806.7916179679894, 28: 1806.7916179679894, 29: 1806.7916179679894, 30: 1806.7916179679894, 31: 1806.7916179679894, 32: 1806.7916179679894, 33: 1806.7916179679894, 34: 1806.7916179679894, 35: 1806.7916179679894, 36: 1806.7916179679894, 37: 1806.7916179679894, 38: 1806.7916179679894, 39: 1806.7916179679894, 40: 1806.7916179679894}\n"
     ]
    },
    {
     "data": {
      "text/plain": [
       "[<matplotlib.lines.Line2D at 0x115022e48>]"
      ]
     },
     "execution_count": 34,
     "metadata": {},
     "output_type": "execute_result"
    },
    {
     "data": {
      "image/png": "[encoded data removed]",
      "text/plain": [
       "<matplotlib.figure.Figure at 0x1147f1dd8>"
      ]
     },
     "metadata": {},
     "output_type": "display_data"
    }
   ],
   "source": [
    "# Using 4 columns: 'curb-weight', 'width', 'city-mpg', and 'engine-size'\n",
    "\n",
    "k_values = list(range(1, 41))\n",
    "\n",
    "lowest_rmses = list()\n",
    "k_lowest_rmse = dict()\n",
    "lowest_rmse = None\n",
    "rmses = list()\n",
    "for k in k_values:\n",
    "    rmse = knn_train_test(['curb-weight', 'width', 'city-mpg', 'engine-size'], normalized_cars, k)\n",
    "    rmses.append(rmse)\n",
    "    # Initialize lowest_rmse to the rmse from the first k value\n",
    "    if k == 1:\n",
    "        lowest_rmse = rmse\n",
    "    else:\n",
    "        # Regular case: check if rmse is lower than lowest_rmse\n",
    "        if rmse < lowest_rmse:\n",
    "            lowest_rmse = rmse\n",
    "    lowest_rmses.append(lowest_rmse)\n",
    "    k_lowest_rmse[k] = lowest_rmse\n",
    "print(k_lowest_rmse)\n",
    "plt.plot(k_values, lowest_rmses)"
   ]
  },
  {
   "cell_type": "markdown",
   "metadata": {},
   "source": [
    "# Using 5 features"
   ]
  },
  {
   "cell_type": "markdown",
   "metadata": {},
   "source": [
    "This trial generates an even higher RMSE. Now we want to see if including both 'engine-size' and 'highway-mpg' would lower the RMSE."
   ]
  },
  {
   "cell_type": "code",
   "execution_count": 35,
   "metadata": {
    "collapsed": false
   },
   "outputs": [
    {
     "name": "stdout",
     "output_type": "stream",
     "text": [
      "{1: 2818.7583962716144, 2: 2277.8217087974567, 3: 2277.8217087974567, 4: 2211.4349628301497, 5: 2195.4175859165662, 6: 2195.4175859165662, 7: 2171.8860688487125, 8: 2171.8860688487125, 9: 2156.857567088839, 10: 2070.316538808032, 11: 2006.2976661412595, 12: 1979.9158077058348, 13: 1938.7938160176705, 14: 1870.7128532112029, 15: 1844.5787703014321, 16: 1817.9385181069567, 17: 1817.9385181069567, 18: 1817.9385181069567, 19: 1817.9385181069567, 20: 1817.9385181069567, 21: 1817.9385181069567, 22: 1817.9385181069567, 23: 1817.9385181069567, 24: 1817.9385181069567, 25: 1817.9385181069567, 26: 1817.9385181069567, 27: 1817.9385181069567, 28: 1817.9385181069567, 29: 1817.9385181069567, 30: 1817.9385181069567, 31: 1817.9385181069567, 32: 1817.9385181069567, 33: 1817.9385181069567, 34: 1817.9385181069567, 35: 1817.9385181069567, 36: 1817.9385181069567, 37: 1817.9385181069567, 38: 1817.9385181069567, 39: 1817.9385181069567, 40: 1817.9385181069567}\n"
     ]
    },
    {
     "data": {
      "text/plain": [
       "[<matplotlib.lines.Line2D at 0x115246c88>]"
      ]
     },
     "execution_count": 35,
     "metadata": {},
     "output_type": "execute_result"
    },
    {
     "data": {
      "image/png": "[encoded data removed]",
      "text/plain": [
       "<matplotlib.figure.Figure at 0x11515e780>"
      ]
     },
     "metadata": {},
     "output_type": "display_data"
    }
   ],
   "source": [
    "k_values = list(range(1, 41))\n",
    "\n",
    "lowest_rmses = list()\n",
    "k_lowest_rmse = dict()\n",
    "lowest_rmse = None\n",
    "rmses = list()\n",
    "for k in k_values:\n",
    "    rmse = knn_train_test(['curb-weight', 'width', 'city-mpg', 'engine-size', 'highway-mpg'], normalized_cars, k)\n",
    "    rmses.append(rmse)\n",
    "    # Initialize lowest_rmse to the rmse from the first k value\n",
    "    if k == 1:\n",
    "        lowest_rmse = rmse\n",
    "    else:\n",
    "        # Regular case: check if rmse is lower than lowest_rmse\n",
    "        if rmse < lowest_rmse:\n",
    "            lowest_rmse = rmse\n",
    "    lowest_rmses.append(lowest_rmse)\n",
    "    k_lowest_rmse[k] = lowest_rmse\n",
    "print(k_lowest_rmse)\n",
    "plt.plot(k_values, lowest_rmses)"
   ]
  },
  {
   "cell_type": "markdown",
   "metadata": {},
   "source": [
    "We see that using 5 columns does not lower the RMSE as it plateaus at 1817.9385181069567. "
   ]
  },
  {
   "cell_type": "markdown",
   "metadata": {},
   "source": [
    "It looks like using the train-test split, the lowest RMSE that we can achieve so far is 1546.6416642056738 by using all features and k of 20. We want to know how different the result is if we use k-fold cross validation."
   ]
  },
  {
   "cell_type": "markdown",
   "metadata": {},
   "source": [
    "# Feature Selection\n",
    "\n",
    "We want to try to select features that are highly correlated to 'price' in the hope of improving our model."
   ]
  },
  {
   "cell_type": "code",
   "execution_count": 36,
   "metadata": {
    "collapsed": false
   },
   "outputs": [
    {
     "name": "stdout",
     "output_type": "stream",
     "text": [
      "{1: 4075.830131227342, 2: 3617.9220198035378, 3: 3135.6174130946974, 4: 2938.346504773062, 5: 2850.0597998565959, 6: 2850.0597998565959, 7: 2850.0597998565959, 8: 2850.0597998565959, 9: 2843.9024905386232, 10: 2756.1599878491616, 11: 2739.8370561378965, 12: 2706.8357964780257, 13: 2654.1545252738829, 14: 2654.1545252738829, 15: 2654.1545252738829, 16: 2654.1545252738829, 17: 2654.1545252738829, 18: 2628.0603756008582, 19: 2578.655475314356, 20: 2573.9345923822675, 21: 2539.0797010726947, 22: 2484.1425707414087, 23: 2450.5802451204472, 24: 2407.809529670521, 25: 2405.9502953389083, 26: 2360.3704987402293, 27: 2345.0746395303809, 28: 2345.0746395303809, 29: 2345.0746395303809, 30: 2345.0746395303809, 31: 2345.0746395303809, 32: 2343.9060273460113, 33: 2339.774978859215, 34: 2339.774978859215, 35: 2339.774978859215, 36: 2339.774978859215, 37: 2339.774978859215, 38: 2339.774978859215, 39: 2339.774978859215, 40: 2329.7826633458162}\n"
     ]
    },
    {
     "data": {
      "text/plain": [
       "[<matplotlib.lines.Line2D at 0x115610d68>]"
      ]
     },
     "execution_count": 36,
     "metadata": {},
     "output_type": "execute_result"
    },
    {
     "data": {
      "image/png": "[encoded data removed]",
      "text/plain": [
       "<matplotlib.figure.Figure at 0x1153bcba8>"
      ]
     },
     "metadata": {},
     "output_type": "display_data"
    }
   ],
   "source": [
    "# We will modify the knn_train_test()\n",
    "\n",
    "def knn_train_test(col_names, df, k):\n",
    "    for col in col_names:\n",
    "        if df[col].dtype != 'float64':\n",
    "            print(\"Type Error. Please enter numeric values.\")\n",
    "            return\n",
    "        elif col not in df.columns:\n",
    "            print(\"Error. DataFrame does not contain column with such name.\")\n",
    "            return\n",
    "    # We want train data to be 70% and test data 30%.\n",
    "    cutoff_index = int(0.7 * df.shape[0])\n",
    "    train_df = df.iloc[:cutoff_index]\n",
    "    test_df = df.iloc[cutoff_index:]\n",
    "    \n",
    "    # find the best 2 features\n",
    "    corr = train_df.corr()['price'][train_df.corr()['price'] < 1].abs()\n",
    "    corr.sort_values(ascending=False, inplace=True)\n",
    "    features = corr.index[[0,1]].values\n",
    "\n",
    "    # use these features to train\n",
    "    train_set = train_df[features].values\n",
    "    train_target = train_df['price']\n",
    "    test_set = test_df[features].values\n",
    "    \n",
    "    model = KNeighborsRegressor(n_neighbors=k)\n",
    "    model.fit(train_set, train_target)\n",
    "    predictions = model.predict(test_set)\n",
    "    mse = mean_squared_error(test_df['price'], predictions)\n",
    "    rmse = np.sqrt(mse)\n",
    "    return rmse\n",
    "\n",
    "k_values = list(range(1,41))\n",
    "lowest_rmses = list()\n",
    "k_lowest_rmse = dict()\n",
    "lowest_rmse = None\n",
    "rmses = list()\n",
    "for k in k_values:\n",
    "    rmse = knn_train_test(numeric_cols, normalized_cars, k)\n",
    "    rmses.append(rmse)\n",
    "    # Initialize lowest_rmse to the rmse from the first k value\n",
    "    if k == 1:\n",
    "        lowest_rmse = rmse\n",
    "    else:\n",
    "        # Regular case: check if rmse is lower than lowest_rmse\n",
    "        if rmse < lowest_rmse:\n",
    "            lowest_rmse = rmse\n",
    "    lowest_rmses.append(lowest_rmse)\n",
    "    k_lowest_rmse[k] = lowest_rmse\n",
    "\n",
    "print(k_lowest_rmse)\n",
    "plt.plot(k_values, lowest_rmses)"
   ]
  },
  {
   "cell_type": "markdown",
   "metadata": {},
   "source": [
    "It looks like our model with 2 best features generates the lowest RMSE of 2339.774978859215 with k=33. We want to try if increasing the number of features to 3 would improve the result."
   ]
  },
  {
   "cell_type": "code",
   "execution_count": 37,
   "metadata": {
    "collapsed": false
   },
   "outputs": [
    {
     "name": "stdout",
     "output_type": "stream",
     "text": [
      "{1: 3361.3713975717997, 2: 3084.205257268964, 3: 3084.205257268964, 4: 3049.1015557724199, 5: 2666.3175043105994, 6: 2582.6626452327178, 7: 2539.2910644771914, 8: 2519.7435954155994, 9: 2460.2483926795721, 10: 2400.4050488658554, 11: 2400.4050488658554, 12: 2400.4050488658554, 13: 2400.4050488658554, 14: 2343.6947510166501, 15: 2265.1230581374043, 16: 2232.3751080663446, 17: 2109.8146185706742, 18: 2075.9556189509399, 19: 2043.5855684659678, 20: 2029.1503269693092, 21: 2007.7504597709872, 22: 2003.204092574226, 23: 2003.204092574226, 24: 2003.204092574226, 25: 2003.204092574226, 26: 2003.204092574226, 27: 2003.204092574226, 28: 2003.204092574226, 29: 2003.204092574226, 30: 2003.204092574226, 31: 2003.204092574226, 32: 2003.204092574226, 33: 2003.204092574226, 34: 2003.204092574226, 35: 2003.204092574226, 36: 2003.204092574226, 37: 2003.204092574226, 38: 2003.204092574226, 39: 2003.204092574226, 40: 2003.204092574226}\n"
     ]
    },
    {
     "data": {
      "text/plain": [
       "[<matplotlib.lines.Line2D at 0x11567be48>]"
      ]
     },
     "execution_count": 37,
     "metadata": {},
     "output_type": "execute_result"
    },
    {
     "data": {
      "image/png": "[encoded data removed]",
      "text/plain": [
       "<matplotlib.figure.Figure at 0x1152b3860>"
      ]
     },
     "metadata": {},
     "output_type": "display_data"
    }
   ],
   "source": [
    "# We will modify the knn_train_test()\n",
    "\n",
    "def knn_train_test(col_names, df, k):\n",
    "    for col in col_names:\n",
    "        if df[col].dtype != 'float64':\n",
    "            print(\"Type Error. Please enter numeric values.\")\n",
    "            return\n",
    "        elif col not in df.columns:\n",
    "            print(\"Error. DataFrame does not contain column with such name.\")\n",
    "            return\n",
    "    # We want train data to be 70% and test data 30%.\n",
    "    cutoff_index = int(0.7 * df.shape[0])\n",
    "    train_df = df.iloc[:cutoff_index]\n",
    "    test_df = df.iloc[cutoff_index:]\n",
    "    \n",
    "    # find the best 3 features\n",
    "    corr = train_df.corr()['price'][train_df.corr()['price'] < 1].abs()\n",
    "    corr.sort_values(ascending=False, inplace=True)\n",
    "    features = corr.index[[0,1,2]].values\n",
    "\n",
    "    # use these features to train\n",
    "    train_set = train_df[features].values\n",
    "    train_target = train_df['price']\n",
    "    test_set = test_df[features].values\n",
    "    \n",
    "    model = KNeighborsRegressor(n_neighbors=k)\n",
    "    model.fit(train_set, train_target)\n",
    "    predictions = model.predict(test_set)\n",
    "    mse = mean_squared_error(test_df['price'], predictions)\n",
    "    rmse = np.sqrt(mse)\n",
    "    return rmse\n",
    "\n",
    "k_values = list(range(1,41))\n",
    "lowest_rmses = list()\n",
    "k_lowest_rmse = dict()\n",
    "lowest_rmse = None\n",
    "rmses = list()\n",
    "for k in k_values:\n",
    "    rmse = knn_train_test(numeric_cols, normalized_cars, k)\n",
    "    rmses.append(rmse)\n",
    "    # Initialize lowest_rmse to the rmse from the first k value\n",
    "    if k == 1:\n",
    "        lowest_rmse = rmse\n",
    "    else:\n",
    "        # Regular case: check if rmse is lower than lowest_rmse\n",
    "        if rmse < lowest_rmse:\n",
    "            lowest_rmse = rmse\n",
    "    lowest_rmses.append(lowest_rmse)\n",
    "    k_lowest_rmse[k] = lowest_rmse\n",
    "\n",
    "print(k_lowest_rmse)\n",
    "plt.plot(k_values, lowest_rmses)"
   ]
  },
  {
   "cell_type": "markdown",
   "metadata": {},
   "source": [
    "It does improve the result, lowering the RMSE to 2003.204092574226. What if we used 4 best features?"
   ]
  },
  {
   "cell_type": "code",
   "execution_count": 38,
   "metadata": {
    "collapsed": false
   },
   "outputs": [
    {
     "name": "stdout",
     "output_type": "stream",
     "text": [
      "{1: 4056.792437297026, 2: 3070.388750237697, 3: 3050.8055581501494, 4: 3003.1023032799794, 5: 2730.990873354363, 6: 2566.2614254093564, 7: 2523.9368275434272, 8: 2429.586220502496, 9: 2379.7427300124805, 10: 2318.6627223466548, 11: 2262.1521643443989, 12: 2157.7040290465234, 13: 2027.4899795360163, 14: 1993.3538925488067, 15: 1967.2497716900514, 16: 1946.0979069692864, 17: 1946.0979069692864, 18: 1946.0979069692864, 19: 1946.0979069692864, 20: 1946.0979069692864, 21: 1946.0979069692864, 22: 1946.0979069692864, 23: 1946.0979069692864, 24: 1946.0979069692864, 25: 1946.0979069692864, 26: 1946.0979069692864, 27: 1946.0979069692864, 28: 1946.0979069692864, 29: 1946.0979069692864, 30: 1946.0979069692864, 31: 1946.0979069692864, 32: 1946.0979069692864, 33: 1946.0979069692864, 34: 1946.0979069692864, 35: 1946.0979069692864, 36: 1946.0979069692864, 37: 1946.0979069692864, 38: 1946.0979069692864, 39: 1946.0979069692864, 40: 1946.0979069692864}\n"
     ]
    },
    {
     "data": {
      "text/plain": [
       "[<matplotlib.lines.Line2D at 0x1157ca470>]"
      ]
     },
     "execution_count": 38,
     "metadata": {},
     "output_type": "execute_result"
    },
    {
     "data": {
      "image/png": "[encoded data removed]",
      "text/plain": [
       "<matplotlib.figure.Figure at 0x11564aa20>"
      ]
     },
     "metadata": {},
     "output_type": "display_data"
    }
   ],
   "source": [
    "# We will modify the knn_train_test()\n",
    "\n",
    "def knn_train_test(col_names, df, k):\n",
    "    for col in col_names:\n",
    "        if df[col].dtype != 'float64':\n",
    "            print(\"Type Error. Please enter numeric values.\")\n",
    "            return\n",
    "        elif col not in df.columns:\n",
    "            print(\"Error. DataFrame does not contain column with such name.\")\n",
    "            return\n",
    "    # We want train data to be 70% and test data 30%.\n",
    "    cutoff_index = int(0.7 * df.shape[0])\n",
    "    train_df = df.iloc[:cutoff_index]\n",
    "    test_df = df.iloc[cutoff_index:]\n",
    "    \n",
    "    # find the best 4 features\n",
    "    corr = train_df.corr()['price'][train_df.corr()['price'] < 1].abs()\n",
    "    corr.sort_values(ascending=False, inplace=True)\n",
    "    features = corr.index[[0,1,2,3]].values\n",
    "\n",
    "    # use these features to train\n",
    "    train_set = train_df[features].values\n",
    "    train_target = train_df['price']\n",
    "    test_set = test_df[features].values\n",
    "    \n",
    "    model = KNeighborsRegressor(n_neighbors=k)\n",
    "    model.fit(train_set, train_target)\n",
    "    predictions = model.predict(test_set)\n",
    "    mse = mean_squared_error(test_df['price'], predictions)\n",
    "    rmse = np.sqrt(mse)\n",
    "    return rmse\n",
    "\n",
    "k_values = list(range(1,41))\n",
    "lowest_rmses = list()\n",
    "k_lowest_rmse = dict()\n",
    "lowest_rmse = None\n",
    "rmses = list()\n",
    "for k in k_values:\n",
    "    rmse = knn_train_test(numeric_cols, normalized_cars, k)\n",
    "    rmses.append(rmse)\n",
    "    # Initialize lowest_rmse to the rmse from the first k value\n",
    "    if k == 1:\n",
    "        lowest_rmse = rmse\n",
    "    else:\n",
    "        # Regular case: check if rmse is lower than lowest_rmse\n",
    "        if rmse < lowest_rmse:\n",
    "            lowest_rmse = rmse\n",
    "    lowest_rmses.append(lowest_rmse)\n",
    "    k_lowest_rmse[k] = lowest_rmse\n",
    "\n",
    "print(k_lowest_rmse)\n",
    "plt.plot(k_values, lowest_rmses)"
   ]
  },
  {
   "cell_type": "markdown",
   "metadata": {},
   "source": [
    "Using 4 best features lowers the RMSE to 1946.0979069692864, a slight improvement from 2003.204092574226."
   ]
  },
  {
   "cell_type": "code",
   "execution_count": 39,
   "metadata": {
    "collapsed": false
   },
   "outputs": [
    {
     "name": "stdout",
     "output_type": "stream",
     "text": [
      "{1: 2818.7583962716144, 2: 2277.8217087974567, 3: 2277.8217087974567, 4: 2211.4349628301497, 5: 2195.4175859165662, 6: 2195.4175859165662, 7: 2171.8860688487125, 8: 2171.8860688487125, 9: 2156.857567088839, 10: 2070.316538808032, 11: 2006.2976661412595, 12: 1979.9158077058348, 13: 1938.7938160176705, 14: 1870.7128532112029, 15: 1844.5787703014321, 16: 1817.9385181069567, 17: 1817.9385181069567, 18: 1817.9385181069567, 19: 1817.9385181069567, 20: 1817.9385181069567, 21: 1817.9385181069567, 22: 1817.9385181069567, 23: 1817.9385181069567, 24: 1817.9385181069567, 25: 1817.9385181069567, 26: 1817.9385181069567, 27: 1817.9385181069567, 28: 1817.9385181069567, 29: 1817.9385181069567, 30: 1817.9385181069567, 31: 1817.9385181069567, 32: 1817.9385181069567, 33: 1817.9385181069567, 34: 1817.9385181069567, 35: 1817.9385181069567, 36: 1817.9385181069567, 37: 1817.9385181069567, 38: 1817.9385181069567, 39: 1817.9385181069567, 40: 1817.9385181069567}\n"
     ]
    },
    {
     "data": {
      "text/plain": [
       "[<matplotlib.lines.Line2D at 0x11596cd30>]"
      ]
     },
     "execution_count": 39,
     "metadata": {},
     "output_type": "execute_result"
    },
    {
     "data": {
      "image/png": "[encoded data removed]",
      "text/plain": [
       "<matplotlib.figure.Figure at 0x115640518>"
      ]
     },
     "metadata": {},
     "output_type": "display_data"
    }
   ],
   "source": [
    "# We will modify the knn_train_test()\n",
    "\n",
    "def knn_train_test(col_names, df, k):\n",
    "    for col in col_names:\n",
    "        if df[col].dtype != 'float64':\n",
    "            print(\"Type Error. Please enter numeric values.\")\n",
    "            return\n",
    "        elif col not in df.columns:\n",
    "            print(\"Error. DataFrame does not contain column with such name.\")\n",
    "            return\n",
    "    # We want train data to be 70% and test data 30%.\n",
    "    cutoff_index = int(0.7 * df.shape[0])\n",
    "    train_df = df.iloc[:cutoff_index]\n",
    "    test_df = df.iloc[cutoff_index:]\n",
    "    \n",
    "    # find the best 5 features\n",
    "    corr = train_df.corr()['price'][train_df.corr()['price'] < 1].abs()\n",
    "    corr.sort_values(ascending=False, inplace=True)\n",
    "    features = corr.index[[0,1,2,3,4]].values\n",
    "\n",
    "    # use these features to train\n",
    "    train_set = train_df[features].values\n",
    "    train_target = train_df['price']\n",
    "    test_set = test_df[features].values\n",
    "    \n",
    "    model = KNeighborsRegressor(n_neighbors=k)\n",
    "    model.fit(train_set, train_target)\n",
    "    predictions = model.predict(test_set)\n",
    "    mse = mean_squared_error(test_df['price'], predictions)\n",
    "    rmse = np.sqrt(mse)\n",
    "    return rmse\n",
    "\n",
    "k_values = list(range(1,41))\n",
    "lowest_rmses = list()\n",
    "k_lowest_rmse = dict()\n",
    "lowest_rmse = None\n",
    "rmses = list()\n",
    "for k in k_values:\n",
    "    rmse = knn_train_test(numeric_cols, normalized_cars, k)\n",
    "    rmses.append(rmse)\n",
    "    # Initialize lowest_rmse to the rmse from the first k value\n",
    "    if k == 1:\n",
    "        lowest_rmse = rmse\n",
    "    else:\n",
    "        # Regular case: check if rmse is lower than lowest_rmse\n",
    "        if rmse < lowest_rmse:\n",
    "            lowest_rmse = rmse\n",
    "    lowest_rmses.append(lowest_rmse)\n",
    "    k_lowest_rmse[k] = lowest_rmse\n",
    "\n",
    "print(k_lowest_rmse)\n",
    "plt.plot(k_values, lowest_rmses)"
   ]
  },
  {
   "cell_type": "markdown",
   "metadata": {},
   "source": [
    "And using 5 features improves it further, to 1817.9385181069567. "
   ]
  },
  {
   "cell_type": "code",
   "execution_count": 40,
   "metadata": {
    "collapsed": false
   },
   "outputs": [
    {
     "name": "stdout",
     "output_type": "stream",
     "text": [
      "{1: 3158.768698346742, 2: 2438.102370308402, 3: 2165.4267261051036, 4: 2144.5196163006472, 5: 2144.5196163006472, 6: 2144.5196163006472, 7: 2144.5196163006472, 8: 2050.1751132236154, 9: 1991.4900772427898, 10: 1872.6797150073476, 11: 1806.0459485363504, 12: 1732.3715044913879, 13: 1732.3715044913879, 14: 1732.3715044913879, 15: 1732.3715044913879, 16: 1732.3715044913879, 17: 1732.3715044913879, 18: 1732.3715044913879, 19: 1732.3715044913879, 20: 1732.3715044913879}\n"
     ]
    },
    {
     "data": {
      "text/plain": [
       "[<matplotlib.lines.Line2D at 0x115bf0048>]"
      ]
     },
     "execution_count": 40,
     "metadata": {},
     "output_type": "execute_result"
    },
    {
     "data": {
      "image/png": "[encoded data removed]",
      "text/plain": [
       "<matplotlib.figure.Figure at 0x11579b4a8>"
      ]
     },
     "metadata": {},
     "output_type": "display_data"
    }
   ],
   "source": [
    "# We will modify the knn_train_test()\n",
    "\n",
    "def knn_train_test(col_names, df, k):\n",
    "    for col in col_names:\n",
    "        if df[col].dtype != 'float64':\n",
    "            print(\"Type Error. Please enter numeric values.\")\n",
    "            return\n",
    "        elif col not in df.columns:\n",
    "            print(\"Error. DataFrame does not contain column with such name.\")\n",
    "            return\n",
    "    # We want train data to be 70% and test data 30%.\n",
    "    cutoff_index = int(0.7 * df.shape[0])\n",
    "    train_df = df.iloc[:cutoff_index]\n",
    "    test_df = df.iloc[cutoff_index:]\n",
    "    \n",
    "    # find the best 6 features\n",
    "    corr = train_df.corr()['price'][train_df.corr()['price'] < 1].abs()\n",
    "    corr.sort_values(ascending=False, inplace=True)\n",
    "    features = corr.index[[0,1,2,3,4,5]].values\n",
    "\n",
    "    # use these features to train\n",
    "    train_set = train_df[features].values\n",
    "    train_target = train_df['price']\n",
    "    test_set = test_df[features].values\n",
    "    \n",
    "    model = KNeighborsRegressor(n_neighbors=k)\n",
    "    model.fit(train_set, train_target)\n",
    "    predictions = model.predict(test_set)\n",
    "    mse = mean_squared_error(test_df['price'], predictions)\n",
    "    rmse = np.sqrt(mse)\n",
    "    return rmse\n",
    "\n",
    "k_values = list(range(1,21))\n",
    "lowest_rmses = list()\n",
    "k_lowest_rmse = dict()\n",
    "lowest_rmse = None\n",
    "rmses = list()\n",
    "for k in k_values:\n",
    "    rmse = knn_train_test(numeric_cols, normalized_cars, k)\n",
    "    rmses.append(rmse)\n",
    "    # Initialize lowest_rmse to the rmse from the first k value\n",
    "    if k == 1:\n",
    "        lowest_rmse = rmse\n",
    "    else:\n",
    "        # Regular case: check if rmse is lower than lowest_rmse\n",
    "        if rmse < lowest_rmse:\n",
    "            lowest_rmse = rmse\n",
    "    lowest_rmses.append(lowest_rmse)\n",
    "    k_lowest_rmse[k] = lowest_rmse\n",
    "\n",
    "print(k_lowest_rmse)\n",
    "plt.plot(k_values, lowest_rmses)"
   ]
  },
  {
   "cell_type": "markdown",
   "metadata": {},
   "source": [
    "Using 6 features generates an RMSE of 1732.3715044913879, another improvement."
   ]
  },
  {
   "cell_type": "code",
   "execution_count": 41,
   "metadata": {
    "collapsed": false
   },
   "outputs": [
    {
     "name": "stdout",
     "output_type": "stream",
     "text": [
      "{1: 4092.3551751174218, 2: 2749.9169250774808, 3: 2550.9441858777709, 4: 2336.698826372884, 5: 2247.825029391438, 6: 2065.9681852885637, 7: 2015.3372498099416, 8: 1947.8553857992304, 9: 1947.8553857992304, 10: 1933.7849699488308, 11: 1933.7849699488308, 12: 1877.1565302681481, 13: 1790.5526257757163, 14: 1784.8483660611353, 15: 1784.8483660611353, 16: 1784.8483660611353, 17: 1784.8483660611353, 18: 1784.8483660611353, 19: 1784.8483660611353, 20: 1784.8483660611353}\n"
     ]
    },
    {
     "data": {
      "text/plain": [
       "[<matplotlib.lines.Line2D at 0x115d04908>]"
      ]
     },
     "execution_count": 41,
     "metadata": {},
     "output_type": "execute_result"
    },
    {
     "data": {
      "image/png": "[encoded data removed]",
      "text/plain": [
       "<matplotlib.figure.Figure at 0x11598acc0>"
      ]
     },
     "metadata": {},
     "output_type": "display_data"
    }
   ],
   "source": [
    "# We will modify the knn_train_test()\n",
    "\n",
    "def knn_train_test(col_names, df, k):\n",
    "    for col in col_names:\n",
    "        if df[col].dtype != 'float64':\n",
    "            print(\"Type Error. Please enter numeric values.\")\n",
    "            return\n",
    "        elif col not in df.columns:\n",
    "            print(\"Error. DataFrame does not contain column with such name.\")\n",
    "            return\n",
    "    # We want train data to be 70% and test data 30%.\n",
    "    cutoff_index = int(0.7 * df.shape[0])\n",
    "    train_df = df.iloc[:cutoff_index]\n",
    "    test_df = df.iloc[cutoff_index:]\n",
    "    \n",
    "    # find the best 7 features\n",
    "    corr = train_df.corr()['price'][train_df.corr()['price'] < 1].abs()\n",
    "    corr.sort_values(ascending=False, inplace=True)\n",
    "    features = corr.index[[0,1,2,3,4,5,6]].values\n",
    "\n",
    "    # use these features to train\n",
    "    train_set = train_df[features].values\n",
    "    train_target = train_df['price']\n",
    "    test_set = test_df[features].values\n",
    "    \n",
    "    model = KNeighborsRegressor(n_neighbors=k)\n",
    "    model.fit(train_set, train_target)\n",
    "    predictions = model.predict(test_set)\n",
    "    mse = mean_squared_error(test_df['price'], predictions)\n",
    "    rmse = np.sqrt(mse)\n",
    "    return rmse\n",
    "\n",
    "k_values = list(range(1,21))\n",
    "lowest_rmses = list()\n",
    "k_lowest_rmse = dict()\n",
    "lowest_rmse = None\n",
    "rmses = list()\n",
    "for k in k_values:\n",
    "    rmse = knn_train_test(numeric_cols, normalized_cars, k)\n",
    "    rmses.append(rmse)\n",
    "    # Initialize lowest_rmse to the rmse from the first k value\n",
    "    if k == 1:\n",
    "        lowest_rmse = rmse\n",
    "    else:\n",
    "        # Regular case: check if rmse is lower than lowest_rmse\n",
    "        if rmse < lowest_rmse:\n",
    "            lowest_rmse = rmse\n",
    "    lowest_rmses.append(lowest_rmse)\n",
    "    k_lowest_rmse[k] = lowest_rmse\n",
    "\n",
    "print(k_lowest_rmse)\n",
    "plt.plot(k_values, lowest_rmses)"
   ]
  },
  {
   "cell_type": "markdown",
   "metadata": {},
   "source": [
    "And now since using 7 features increases the RMSE to 1784.8483660611353, it seems we cannot go lower than 1732.3715044913879. Thus, using 6 best features generates the lowest RMSE with k=12."
   ]
  },
  {
   "cell_type": "markdown",
   "metadata": {},
   "source": [
    "# K-Fold Cross Validation"
   ]
  },
  {
   "cell_type": "markdown",
   "metadata": {},
   "source": [
    "We have seen the result using train/test split, but now we want to see if using K-fold cross validation would improve the results."
   ]
  },
  {
   "cell_type": "code",
   "execution_count": 42,
   "metadata": {
    "collapsed": false
   },
   "outputs": [
    {
     "name": "stdout",
     "output_type": "stream",
     "text": [
      "{1: 4001.561726149941, 2: 3757.2857231003691, 3: 3757.2857231003691, 4: 3757.2857231003691, 5: 3757.2857231003691, 6: 3757.2857231003691, 7: 3757.2857231003691, 8: 3757.2857231003691, 9: 3757.2857231003691, 10: 3757.2857231003691}\n"
     ]
    },
    {
     "data": {
      "text/plain": [
       "[<matplotlib.lines.Line2D at 0x115fd12e8>]"
      ]
     },
     "execution_count": 42,
     "metadata": {},
     "output_type": "execute_result"
    },
    {
     "data": {
      "image/png": "[encoded data removed]",
      "text/plain": [
       "<matplotlib.figure.Figure at 0x1157e1c50>"
      ]
     },
     "metadata": {},
     "output_type": "display_data"
    }
   ],
   "source": [
    "from sklearn.model_selection import KFold\n",
    "from sklearn.model_selection import cross_val_score\n",
    "\n",
    "\n",
    "folds = [3, 5, 7, 9, 10, 11, 13, 15, 17, 19, 21, 23]\n",
    "\n",
    "# Create the function\n",
    "\n",
    "def knn_kfold(col_names, df, k, folds):\n",
    "    for col in col_names:\n",
    "        if df[col].dtype != 'float64':\n",
    "            print(\"Type Error. Please enter numeric values.\")\n",
    "            return\n",
    "        elif col not in df.columns:\n",
    "            print(\"Error. DataFrame does not contain column with such name.\")\n",
    "            return\n",
    "\n",
    "\n",
    "    for fold in folds:\n",
    "        kf = KFold(n_splits=fold, shuffle=True, random_state=1)\n",
    "        model = KNeighborsRegressor(n_neighbors=k)\n",
    "        mses = cross_val_score(model, df[col_names], df[\"price\"], scoring=\"neg_mean_squared_error\", cv=kf)\n",
    "        rmses = [np.sqrt(np.absolute(mse)) for mse in mses]\n",
    "        avg_rmse = np.mean(rmses)\n",
    "        return avg_rmse\n",
    "\n",
    "k_values = [1,2,3,4,5,6,7,8,9,10]\n",
    "lowest_avg_rmses = list()\n",
    "k_lowest_avg_rmse = dict()\n",
    "lowest_avg_rmse = None\n",
    "rmses = list()\n",
    "for k in k_values:\n",
    "    avg_rmse = knn_kfold(numeric_cols, normalized_cars, k, folds)\n",
    "    rmses.append(rmse)\n",
    "    # Initialize lowest_rmse to the rmse from the first k value\n",
    "    if k == 1:\n",
    "        lowest_avg_rmse = avg_rmse\n",
    "    else:\n",
    "        # Regular case: check if rmse is lower than lowest_rmse\n",
    "        if avg_rmse < lowest_avg_rmse:\n",
    "            lowest_avg_rmse = avg_rmse\n",
    "    lowest_avg_rmses.append(lowest_avg_rmse)\n",
    "    k_lowest_avg_rmse[k] = lowest_avg_rmse\n",
    "\n",
    "print(k_lowest_avg_rmse)\n",
    "plt.plot(k_values, lowest_avg_rmses)"
   ]
  },
  {
   "cell_type": "markdown",
   "metadata": {},
   "source": [
    "It looks like the avg_rmse using k-fold cross validation is much higher than our current best result. "
   ]
  },
  {
   "cell_type": "markdown",
   "metadata": {},
   "source": [
    "# Finding best features to improve our KNN model\n",
    "\n",
    "We will find the best features, that is, the ones with higher correlation to 'price', and will use them in the training fold."
   ]
  },
  {
   "cell_type": "code",
   "execution_count": 43,
   "metadata": {
    "collapsed": false
   },
   "outputs": [
    {
     "data": {
      "text/plain": [
       "2225.3497382198948"
      ]
     },
     "execution_count": 43,
     "metadata": {},
     "output_type": "execute_result"
    }
   ],
   "source": [
    "\n",
    "def knn_kfold(col_names, df, k):\n",
    "    for col in col_names:\n",
    "        if df[col].dtype != 'float64':\n",
    "            print(\"Type Error. Please enter numeric values.\")\n",
    "            return\n",
    "        elif col not in df.columns:\n",
    "            print(\"Error. DataFrame does not contain column with such name.\")\n",
    "            return\n",
    "        \n",
    "    kf = KFold(len(df[col_names])-2, shuffle=True, random_state=1)\n",
    "\n",
    "    for train, test in kf.split(df[col_names]):\n",
    "        train_fold = df.iloc[train]\n",
    "        test_fold = df.iloc[test]\n",
    "        \n",
    "        # find the best 2 features\n",
    "        corr = train_fold.corr()['price'][train_fold.corr()['price'] < 1].abs()\n",
    "        corr.sort_values(ascending=False, inplace=True)\n",
    "        features = corr.index[[0,1]].values\n",
    "        \n",
    "        # use these features to train\n",
    "        train_set = train_fold[features].values\n",
    "        train_target = train_fold['price']\n",
    "\n",
    "        model = KNeighborsRegressor(n_neighbors=k)\n",
    "        mses = cross_val_score(model, train_set, train_target, scoring=\"neg_mean_squared_error\", cv=kf)\n",
    "        rmses = [np.sqrt(np.absolute(mse)) for mse in mses]\n",
    "        avg_rmse = np.mean(rmses)\n",
    "        return avg_rmse  \n",
    "    \n",
    "avg_rmse_10 = knn_kfold(numeric_cols, normalized_cars, 10)\n",
    "avg_rmse_10"
   ]
  },
  {
   "cell_type": "code",
   "execution_count": 44,
   "metadata": {
    "collapsed": false
   },
   "outputs": [
    {
     "data": {
      "text/plain": [
       "2095.6457242582896"
      ]
     },
     "execution_count": 44,
     "metadata": {},
     "output_type": "execute_result"
    }
   ],
   "source": [
    "avg_rmse_3 = knn_kfold(numeric_cols, normalized_cars, 3)\n",
    "avg_rmse_3"
   ]
  },
  {
   "cell_type": "code",
   "execution_count": 45,
   "metadata": {
    "collapsed": false
   },
   "outputs": [
    {
     "data": {
      "text/plain": [
       "1938.8507853403141"
      ]
     },
     "execution_count": 45,
     "metadata": {},
     "output_type": "execute_result"
    }
   ],
   "source": [
    "avg_rmse_2 = knn_kfold(numeric_cols, normalized_cars, 2)\n",
    "avg_rmse_2"
   ]
  },
  {
   "cell_type": "markdown",
   "metadata": {},
   "source": [
    "It appears that we are onto something by reducing the number of n_neighbors. Now we will try how the number would improve if we increase the number of best features to 3."
   ]
  },
  {
   "cell_type": "code",
   "execution_count": 46,
   "metadata": {
    "collapsed": false
   },
   "outputs": [
    {
     "data": {
      "text/plain": [
       "2120.906282722513"
      ]
     },
     "execution_count": 46,
     "metadata": {},
     "output_type": "execute_result"
    }
   ],
   "source": [
    "def knn_kfold(col_names, df, k):\n",
    "    for col in col_names:\n",
    "        if df[col].dtype != 'float64':\n",
    "            print(\"Type Error. Please enter numeric values.\")\n",
    "            return\n",
    "        elif col not in df.columns:\n",
    "            print(\"Error. DataFrame does not contain column with such name.\")\n",
    "            return\n",
    "        \n",
    "    kf = KFold(len(df[col_names])-2, shuffle=True, random_state=1)\n",
    "\n",
    "    for train, test in kf.split(df[col_names]):\n",
    "        train_fold = df.iloc[train]\n",
    "        test_fold = df.iloc[test]\n",
    "        \n",
    "        # find the best 3 features\n",
    "        corr = train_fold.corr()['price'][train_fold.corr()['price'] < 1].abs()\n",
    "        corr.sort_values(ascending=False, inplace=True)\n",
    "        features = corr.index[[0,1,2]].values\n",
    "        \n",
    "        # use these features to train\n",
    "        train_set = train_fold[features].values\n",
    "        train_target = train_fold['price']\n",
    "\n",
    "        model = KNeighborsRegressor(n_neighbors=k)\n",
    "        mses = cross_val_score(model, train_set, train_target, scoring=\"neg_mean_squared_error\", cv=kf)\n",
    "        rmses = [np.sqrt(np.absolute(mse)) for mse in mses]\n",
    "        avg_rmse = np.mean(rmses)\n",
    "        return avg_rmse  \n",
    "    \n",
    "avg_rmse_10 = knn_kfold(numeric_cols, normalized_cars, 10)\n",
    "avg_rmse_10"
   ]
  },
  {
   "cell_type": "markdown",
   "metadata": {},
   "source": [
    "We made an improvement by getting the avg_rmse_10 result of 2120.906282722513, since before we got 2225.3497382198948."
   ]
  },
  {
   "cell_type": "code",
   "execution_count": 47,
   "metadata": {
    "collapsed": false
   },
   "outputs": [
    {
     "data": {
      "text/plain": [
       "1636.0104712041884"
      ]
     },
     "execution_count": 47,
     "metadata": {},
     "output_type": "execute_result"
    }
   ],
   "source": [
    "avg_rmse_2 = knn_kfold(numeric_cols, normalized_cars, 2)\n",
    "avg_rmse_2"
   ]
  },
  {
   "cell_type": "markdown",
   "metadata": {},
   "source": [
    "Since the model using 2 best features gave us 1938.8507853403141, an avg_rmse_2 of 1636.0104712041884 looks like an improvement."
   ]
  },
  {
   "cell_type": "markdown",
   "metadata": {},
   "source": [
    "# Conclusion\n",
    "\n",
    "We have built KNN models using the train-test and k-fold cross validation methods to predict car prices. Using train-test split, we found that the model using all features and 20 neighbors generated the lowest RMSE of 1546.6416642056738. Using train-test split and feature selection (6 best features) gave an RMSE of 1732.3715044913879.\n",
    "Our lowest average RMSE using k-fold cross validation with k=2 is 1636.0104712041884. Note that for KNN we used the average RMSE, since the cross validation score is an average of all the RMSEs. "
   ]
  },
  {
   "cell_type": "code",
   "execution_count": null,
   "metadata": {
    "collapsed": true
   },
   "outputs": [],
   "source": []
  }
 ],
 "metadata": {
  "kernelspec": {
   "display_name": "Python 3",
   "language": "python",
   "name": "python3"
  },
  "language_info": {
   "codemirror_mode": {
    "name": "ipython",
    "version": 3
   },
   "file_extension": ".py",
   "mimetype": "text/x-python",
   "name": "python",
   "nbconvert_exporter": "python",
   "pygments_lexer": "ipython3",
   "version": "3.4.5"
  }
 },
 "nbformat": 4,
 "nbformat_minor": 0
}
