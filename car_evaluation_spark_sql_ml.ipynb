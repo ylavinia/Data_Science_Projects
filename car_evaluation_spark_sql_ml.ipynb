{
 "cells": [
  {
   "cell_type": "markdown",
   "metadata": {},
   "source": [
    "# Spark SQL and Classification on Car Evaluation Dataset"
   ]
  },
  {
   "cell_type": "markdown",
   "metadata": {},
   "source": [
    "The following exercise demonstrates loading and preprocessing car evaluation data. The dataset comprises four classes describing car conditions (unacceptable, acceptable, good, very good). \n",
    "\n",
    "Three machine learning algorithms (Decision Tree, Random Forest, Multilayer Perceptrons) are applied to determine the best model for classification."
   ]
  },
  {
   "cell_type": "code",
   "execution_count": 1,
   "metadata": {
    "collapsed": true
   },
   "outputs": [],
   "source": [
    "from pyspark.sql import SQLContext, Row\n",
    "sqlContext = SQLContext(sc)"
   ]
  },
  {
   "cell_type": "code",
   "execution_count": 2,
   "metadata": {
    "collapsed": false
   },
   "outputs": [
    {
     "name": "stdout",
     "output_type": "stream",
     "text": [
      "--2017-03-23 21:36:19--  http://archive.ics.uci.edu/ml/machine-learning-databases/car/car.data\n",
      "Resolving archive.ics.uci.edu (archive.ics.uci.edu)... 128.195.10.249\n",
      "Connecting to archive.ics.uci.edu (archive.ics.uci.edu)|128.195.10.249|:80... connected.\n",
      "HTTP request sent, awaiting response... 200 OK\n",
      "Length: 51867 (51K) [text/plain]\n",
      "Saving to: ‘car.data’\n",
      "\n",
      "100%[======================================>] 51,867      --.-K/s   in 0.06s   \n",
      "\n",
      "2017-03-23 21:36:20 (784 KB/s) - ‘car.data’ saved [51867/51867]\n",
      "\n"
     ]
    }
   ],
   "source": [
    "!rm car.data -f\n",
    "!wget http://archive.ics.uci.edu/ml/machine-learning-databases/car/car.data"
   ]
  },
  {
   "cell_type": "code",
   "execution_count": 3,
   "metadata": {
    "collapsed": false
   },
   "outputs": [
    {
     "name": "stdout",
     "output_type": "stream",
     "text": [
      "car.data    dataset_Facebook.csv  README.md\t\t  StockPrices.csv\r\n",
      "car.data.1  OnlineRetail.csv.gz   sample_libsvm_data.txt  world_bank.json.gz\r\n"
     ]
    }
   ],
   "source": [
    "!ls\n",
    "data = sc.textFile(\"car.data\")"
   ]
  },
  {
   "cell_type": "code",
   "execution_count": 4,
   "metadata": {
    "collapsed": false
   },
   "outputs": [
    {
     "data": {
      "text/plain": [
       "[u'vhigh,vhigh,2,2,small,low,unacc',\n",
       " u'vhigh,vhigh,2,2,small,med,unacc',\n",
       " u'vhigh,vhigh,2,2,small,high,unacc',\n",
       " u'vhigh,vhigh,2,2,med,low,unacc',\n",
       " u'vhigh,vhigh,2,2,med,med,unacc',\n",
       " u'vhigh,vhigh,2,2,med,high,unacc',\n",
       " u'vhigh,vhigh,2,2,big,low,unacc',\n",
       " u'vhigh,vhigh,2,2,big,med,unacc',\n",
       " u'vhigh,vhigh,2,2,big,high,unacc',\n",
       " u'vhigh,vhigh,2,4,small,low,unacc']"
      ]
     },
     "execution_count": 4,
     "metadata": {},
     "output_type": "execute_result"
    }
   ],
   "source": [
    "data.take(10)"
   ]
  },
  {
   "cell_type": "code",
   "execution_count": 5,
   "metadata": {
    "collapsed": false
   },
   "outputs": [
    {
     "data": {
      "text/plain": [
       "[[u'vhigh', u'vhigh', u'2', u'2', u'small', u'low', u'unacc'],\n",
       " [u'vhigh', u'vhigh', u'2', u'2', u'small', u'med', u'unacc']]"
      ]
     },
     "execution_count": 5,
     "metadata": {},
     "output_type": "execute_result"
    }
   ],
   "source": [
    "# separate each line into list\n",
    "content = data.map(lambda x: x.split(\",\"))\n",
    "content.take(2)"
   ]
  },
  {
   "cell_type": "markdown",
   "metadata": {},
   "source": [
    "Convert the features to integers. For instance, since there are 4 classes that indicate car condition, we want to convert the string to integer: 'unacc' = 0, 'acc' = 1, 'good' = 2, and 'vgood' = 3."
   ]
  },
  {
   "cell_type": "code",
   "execution_count": 6,
   "metadata": {
    "collapsed": false
   },
   "outputs": [
    {
     "data": {
      "text/plain": [
       "[[3, 3, 2, 2, 0, 0, 0], [3, 3, 2, 2, 0, 1, 0], [3, 3, 2, 2, 0, 2, 0]]"
      ]
     },
     "execution_count": 6,
     "metadata": {},
     "output_type": "execute_result"
    }
   ],
   "source": [
    "import re\n",
    "\n",
    "def convert_to_int(line):\n",
    "    new_line = []\n",
    "    for y in line:\n",
    "        if y == 'unacc':\n",
    "            y = int(0)\n",
    "        elif y == 'acc':\n",
    "            y = int(1)\n",
    "        elif y == 'good':\n",
    "            y = int(2)\n",
    "        elif y == 'vgood':\n",
    "            y = int(3)\n",
    "        elif y == 'vhigh':\n",
    "            y = int(3)\n",
    "        elif y == 'high':\n",
    "            y = int(2)\n",
    "        elif y == 'med':\n",
    "            y = int(1)\n",
    "        elif y == 'low':\n",
    "            y = int(0)\n",
    "        elif y == 'small':\n",
    "            y = int(0)\n",
    "        elif y == 'big':\n",
    "            y = int(2)\n",
    "        elif y == '5more':\n",
    "            y = int(5)\n",
    "        elif y == 'more':\n",
    "            y = int(5)\n",
    "        elif y == '2':\n",
    "            y = int(2)\n",
    "        elif y == '3':\n",
    "            y = int(3)\n",
    "        elif y == '4':\n",
    "            y = int(4)\n",
    "        new_line.append(y)\n",
    "    return new_line\n",
    "        \n",
    "        \n",
    "content_new = content.map(lambda x: convert_to_int(x))\n",
    "content_new.take(3)"
   ]
  },
  {
   "cell_type": "code",
   "execution_count": 7,
   "metadata": {
    "collapsed": false
   },
   "outputs": [],
   "source": [
    "# Map the RDD to SQL\n",
    "sql_data = content_new.map(lambda x: Row(buying=x[0], \\\n",
    "           maint=x[1], doors=x[2], persons=x[3], \\\n",
    "           lug_boot=x[4], safety=x[5], y_label=x[6]))\n",
    "sql_df = sqlContext.createDataFrame(sql_data)\n",
    "sql_df.registerTempTable(\"carData\")\n"
   ]
  },
  {
   "cell_type": "markdown",
   "metadata": {},
   "source": [
    "Show the first 10 cars with very good condition (y_label = 3)"
   ]
  },
  {
   "cell_type": "code",
   "execution_count": 8,
   "metadata": {
    "collapsed": false
   },
   "outputs": [
    {
     "data": {
      "text/html": [
       "<div>\n",
       "<table border=\"1\" class=\"dataframe\">\n",
       "  <thead>\n",
       "    <tr style=\"text-align: right;\">\n",
       "      <th></th>\n",
       "      <th>buying</th>\n",
       "      <th>doors</th>\n",
       "      <th>lug_boot</th>\n",
       "      <th>maint</th>\n",
       "      <th>persons</th>\n",
       "      <th>safety</th>\n",
       "      <th>y_label</th>\n",
       "    </tr>\n",
       "  </thead>\n",
       "  <tbody>\n",
       "    <tr>\n",
       "      <th>0</th>\n",
       "      <td>1</td>\n",
       "      <td>4</td>\n",
       "      <td>1</td>\n",
       "      <td>1</td>\n",
       "      <td>5</td>\n",
       "      <td>2</td>\n",
       "      <td>3</td>\n",
       "    </tr>\n",
       "    <tr>\n",
       "      <th>1</th>\n",
       "      <td>1</td>\n",
       "      <td>3</td>\n",
       "      <td>1</td>\n",
       "      <td>1</td>\n",
       "      <td>5</td>\n",
       "      <td>2</td>\n",
       "      <td>3</td>\n",
       "    </tr>\n",
       "    <tr>\n",
       "      <th>2</th>\n",
       "      <td>1</td>\n",
       "      <td>4</td>\n",
       "      <td>2</td>\n",
       "      <td>1</td>\n",
       "      <td>4</td>\n",
       "      <td>2</td>\n",
       "      <td>3</td>\n",
       "    </tr>\n",
       "    <tr>\n",
       "      <th>3</th>\n",
       "      <td>1</td>\n",
       "      <td>2</td>\n",
       "      <td>2</td>\n",
       "      <td>1</td>\n",
       "      <td>5</td>\n",
       "      <td>2</td>\n",
       "      <td>3</td>\n",
       "    </tr>\n",
       "    <tr>\n",
       "      <th>4</th>\n",
       "      <td>1</td>\n",
       "      <td>3</td>\n",
       "      <td>2</td>\n",
       "      <td>1</td>\n",
       "      <td>4</td>\n",
       "      <td>2</td>\n",
       "      <td>3</td>\n",
       "    </tr>\n",
       "    <tr>\n",
       "      <th>5</th>\n",
       "      <td>1</td>\n",
       "      <td>3</td>\n",
       "      <td>2</td>\n",
       "      <td>1</td>\n",
       "      <td>5</td>\n",
       "      <td>2</td>\n",
       "      <td>3</td>\n",
       "    </tr>\n",
       "    <tr>\n",
       "      <th>6</th>\n",
       "      <td>1</td>\n",
       "      <td>4</td>\n",
       "      <td>1</td>\n",
       "      <td>1</td>\n",
       "      <td>4</td>\n",
       "      <td>2</td>\n",
       "      <td>3</td>\n",
       "    </tr>\n",
       "    <tr>\n",
       "      <th>7</th>\n",
       "      <td>1</td>\n",
       "      <td>2</td>\n",
       "      <td>2</td>\n",
       "      <td>1</td>\n",
       "      <td>4</td>\n",
       "      <td>2</td>\n",
       "      <td>3</td>\n",
       "    </tr>\n",
       "    <tr>\n",
       "      <th>8</th>\n",
       "      <td>1</td>\n",
       "      <td>5</td>\n",
       "      <td>1</td>\n",
       "      <td>1</td>\n",
       "      <td>4</td>\n",
       "      <td>2</td>\n",
       "      <td>3</td>\n",
       "    </tr>\n",
       "    <tr>\n",
       "      <th>9</th>\n",
       "      <td>1</td>\n",
       "      <td>4</td>\n",
       "      <td>2</td>\n",
       "      <td>1</td>\n",
       "      <td>5</td>\n",
       "      <td>2</td>\n",
       "      <td>3</td>\n",
       "    </tr>\n",
       "  </tbody>\n",
       "</table>\n",
       "</div>"
      ],
      "text/plain": [
       "   buying  doors  lug_boot  maint  persons  safety  y_label\n",
       "0       1      4         1      1        5       2        3\n",
       "1       1      3         1      1        5       2        3\n",
       "2       1      4         2      1        4       2        3\n",
       "3       1      2         2      1        5       2        3\n",
       "4       1      3         2      1        4       2        3\n",
       "5       1      3         2      1        5       2        3\n",
       "6       1      4         1      1        4       2        3\n",
       "7       1      2         2      1        4       2        3\n",
       "8       1      5         1      1        4       2        3\n",
       "9       1      4         2      1        5       2        3"
      ]
     },
     "execution_count": 8,
     "metadata": {},
     "output_type": "execute_result"
    }
   ],
   "source": [
    "sqlContext.sql(\"SELECT * FROM carData ORDER BY y_label desc limit 10\").toPandas()"
   ]
  },
  {
   "cell_type": "markdown",
   "metadata": {},
   "source": [
    "Here we see that the top 10 cars with very good condition were initially bought with medium price, had medium or big luggage space, had medium maintainence cost, could fit 4 or more people, and scored high in safety."
   ]
  },
  {
   "cell_type": "code",
   "execution_count": 9,
   "metadata": {
    "collapsed": false
   },
   "outputs": [
    {
     "data": {
      "text/html": [
       "<div>\n",
       "<table border=\"1\" class=\"dataframe\">\n",
       "  <thead>\n",
       "    <tr style=\"text-align: right;\">\n",
       "      <th></th>\n",
       "      <th>buying</th>\n",
       "      <th>doors</th>\n",
       "      <th>lug_boot</th>\n",
       "      <th>maint</th>\n",
       "      <th>persons</th>\n",
       "      <th>safety</th>\n",
       "      <th>y_label</th>\n",
       "    </tr>\n",
       "  </thead>\n",
       "  <tbody>\n",
       "    <tr>\n",
       "      <th>0</th>\n",
       "      <td>3</td>\n",
       "      <td>2</td>\n",
       "      <td>0</td>\n",
       "      <td>3</td>\n",
       "      <td>2</td>\n",
       "      <td>0</td>\n",
       "      <td>0</td>\n",
       "    </tr>\n",
       "    <tr>\n",
       "      <th>1</th>\n",
       "      <td>3</td>\n",
       "      <td>2</td>\n",
       "      <td>0</td>\n",
       "      <td>3</td>\n",
       "      <td>2</td>\n",
       "      <td>1</td>\n",
       "      <td>0</td>\n",
       "    </tr>\n",
       "    <tr>\n",
       "      <th>2</th>\n",
       "      <td>3</td>\n",
       "      <td>2</td>\n",
       "      <td>0</td>\n",
       "      <td>3</td>\n",
       "      <td>2</td>\n",
       "      <td>2</td>\n",
       "      <td>0</td>\n",
       "    </tr>\n",
       "    <tr>\n",
       "      <th>3</th>\n",
       "      <td>3</td>\n",
       "      <td>2</td>\n",
       "      <td>1</td>\n",
       "      <td>3</td>\n",
       "      <td>2</td>\n",
       "      <td>0</td>\n",
       "      <td>0</td>\n",
       "    </tr>\n",
       "    <tr>\n",
       "      <th>4</th>\n",
       "      <td>3</td>\n",
       "      <td>2</td>\n",
       "      <td>1</td>\n",
       "      <td>3</td>\n",
       "      <td>2</td>\n",
       "      <td>1</td>\n",
       "      <td>0</td>\n",
       "    </tr>\n",
       "    <tr>\n",
       "      <th>5</th>\n",
       "      <td>3</td>\n",
       "      <td>2</td>\n",
       "      <td>1</td>\n",
       "      <td>3</td>\n",
       "      <td>2</td>\n",
       "      <td>2</td>\n",
       "      <td>0</td>\n",
       "    </tr>\n",
       "    <tr>\n",
       "      <th>6</th>\n",
       "      <td>3</td>\n",
       "      <td>2</td>\n",
       "      <td>2</td>\n",
       "      <td>3</td>\n",
       "      <td>2</td>\n",
       "      <td>0</td>\n",
       "      <td>0</td>\n",
       "    </tr>\n",
       "    <tr>\n",
       "      <th>7</th>\n",
       "      <td>3</td>\n",
       "      <td>2</td>\n",
       "      <td>2</td>\n",
       "      <td>3</td>\n",
       "      <td>2</td>\n",
       "      <td>1</td>\n",
       "      <td>0</td>\n",
       "    </tr>\n",
       "    <tr>\n",
       "      <th>8</th>\n",
       "      <td>3</td>\n",
       "      <td>2</td>\n",
       "      <td>2</td>\n",
       "      <td>3</td>\n",
       "      <td>2</td>\n",
       "      <td>2</td>\n",
       "      <td>0</td>\n",
       "    </tr>\n",
       "    <tr>\n",
       "      <th>9</th>\n",
       "      <td>3</td>\n",
       "      <td>2</td>\n",
       "      <td>0</td>\n",
       "      <td>3</td>\n",
       "      <td>4</td>\n",
       "      <td>0</td>\n",
       "      <td>0</td>\n",
       "    </tr>\n",
       "  </tbody>\n",
       "</table>\n",
       "</div>"
      ],
      "text/plain": [
       "   buying  doors  lug_boot  maint  persons  safety  y_label\n",
       "0       3      2         0      3        2       0        0\n",
       "1       3      2         0      3        2       1        0\n",
       "2       3      2         0      3        2       2        0\n",
       "3       3      2         1      3        2       0        0\n",
       "4       3      2         1      3        2       1        0\n",
       "5       3      2         1      3        2       2        0\n",
       "6       3      2         2      3        2       0        0\n",
       "7       3      2         2      3        2       1        0\n",
       "8       3      2         2      3        2       2        0\n",
       "9       3      2         0      3        4       0        0"
      ]
     },
     "execution_count": 9,
     "metadata": {},
     "output_type": "execute_result"
    }
   ],
   "source": [
    "sqlContext.sql(\"SELECT * FROM carData ORDER BY y_label asc limit 10\").toPandas()"
   ]
  },
  {
   "cell_type": "markdown",
   "metadata": {},
   "source": [
    "From the 10 cars with unacceptable condition, we can see that they were bought with very high price, had 2 doors, had very high maintainence cost, while their luggage space, number of people that they could fit, and safety score vary."
   ]
  },
  {
   "cell_type": "code",
   "execution_count": 10,
   "metadata": {
    "collapsed": false
   },
   "outputs": [
    {
     "name": "stdout",
     "output_type": "stream",
     "text": [
      "   y_label  yCount\n",
      "0        3      65\n",
      "1        2      69\n",
      "2        1     384\n",
      "3        0    1210\n"
     ]
    }
   ],
   "source": [
    "query = \"SELECT y_label, count(*) as yCount FROM carData GROUP BY y_label ORDER BY y_label desc\"\n",
    "df = sqlContext.sql(query).toPandas()\n",
    "print df"
   ]
  },
  {
   "cell_type": "markdown",
   "metadata": {},
   "source": [
    "The number of cars in unacceptable condition is most common, while those in very good condition is the rarest."
   ]
  },
  {
   "cell_type": "code",
   "execution_count": 11,
   "metadata": {
    "collapsed": false
   },
   "outputs": [],
   "source": [
    "%matplotlib inline\n",
    "import matplotlib.pyplot as plt, numpy as np\n"
   ]
  },
  {
   "cell_type": "code",
   "execution_count": 12,
   "metadata": {
    "collapsed": false
   },
   "outputs": [
    {
     "data": {
      "text/plain": [
       "<matplotlib.text.Text at 0x7f597e02e190>"
      ]
     },
     "execution_count": 12,
     "metadata": {},
     "output_type": "execute_result"
    },
    {
     "data": {
      "image/png": "[encoded data removed]",
      "text/plain": [
       "<matplotlib.figure.Figure at 0x7f5984711d10>"
      ]
     },
     "metadata": {},
     "output_type": "display_data"
    }
   ],
   "source": [
    "ax = df.plot(kind='bar', x='y_label', y='yCount', color='green',\\\n",
    "                 edgecolor='w')\n",
    "ax.set_xlabel(\"acceptability\")\n",
    "ax.set_ylabel(\"count\")"
   ]
  },
  {
   "cell_type": "markdown",
   "metadata": {},
   "source": [
    "# Classification"
   ]
  },
  {
   "cell_type": "markdown",
   "metadata": {},
   "source": [
    "### Classify using decision tree"
   ]
  },
  {
   "cell_type": "code",
   "execution_count": 13,
   "metadata": {
    "collapsed": false
   },
   "outputs": [
    {
     "data": {
      "text/plain": [
       "[Row(buying=3, doors=2, lug_boot=0, maint=3, persons=2, safety=0, y_label=0, label=0.0, features=DenseVector([3.0, 2.0, 0.0, 2.0, 3.0])),\n",
       " Row(buying=3, doors=2, lug_boot=0, maint=3, persons=2, safety=1, y_label=0, label=0.0, features=DenseVector([3.0, 2.0, 0.0, 2.0, 3.0]))]"
      ]
     },
     "execution_count": 13,
     "metadata": {},
     "output_type": "execute_result"
    }
   ],
   "source": [
    "from pyspark.ml import Pipeline\n",
    "from pyspark.ml.classification import DecisionTreeClassifier\n",
    "from pyspark.ml.evaluation import MulticlassClassificationEvaluator\n",
    "from pyspark.ml.feature import OneHotEncoder, StringIndexer, VectorIndexer, VectorAssembler\n",
    "from pyspark.mllib.util import MLUtils\n",
    "\n",
    "# create index for labels (ex. 0.0, 1.0, 3.0)\n",
    "labelIndexer = StringIndexer(inputCol=\"y_label\", outputCol=\"label\").fit(sql_df).transform(sql_df)\n",
    "\n",
    "# assemble all feature columns into one column\n",
    "feats = [\"buying\", \"doors\", \"lug_boot\", \"persons\", \"maint\"]\n",
    "assembler = VectorAssembler(inputCols=feats, outputCol=\"features\").transform(labelIndexer)\n",
    "assembler.take(2)"
   ]
  },
  {
   "cell_type": "code",
   "execution_count": 14,
   "metadata": {
    "collapsed": false
   },
   "outputs": [
    {
     "data": {
      "text/plain": [
       "[Row(features=DenseVector([3.0, 2.0, 0.0, 2.0, 3.0]), label=0.0),\n",
       " Row(features=DenseVector([3.0, 2.0, 1.0, 2.0, 3.0]), label=0.0)]"
      ]
     },
     "execution_count": 14,
     "metadata": {},
     "output_type": "execute_result"
    }
   ],
   "source": [
    "# select only the label and features columns\n",
    "assm_feats_label = assembler.select([\"features\", \"label\"])\n",
    "\n",
    "# split the dataset into training and test\n",
    "trainval_df, test_df = assm_feats_label.randomSplit([0.7, 0.3])\n",
    "\n",
    "# split the training set into train and validation set\n",
    "train_df, val_df = trainval_df.randomSplit([0.5, 0.5])\n",
    "train_df.take(2)"
   ]
  },
  {
   "cell_type": "code",
   "execution_count": 15,
   "metadata": {
    "collapsed": false
   },
   "outputs": [],
   "source": [
    "# train a decision tree model\n",
    "dt = DecisionTreeClassifier(labelCol=\"label\", featuresCol=\"features\")\n",
    "\n",
    "# train model\n",
    "model = dt.fit(train_df)"
   ]
  },
  {
   "cell_type": "code",
   "execution_count": 16,
   "metadata": {
    "collapsed": false
   },
   "outputs": [
    {
     "name": "stdout",
     "output_type": "stream",
     "text": [
      "+----------+-----+--------------------+\n",
      "|prediction|label|            features|\n",
      "+----------+-----+--------------------+\n",
      "|       0.0|  0.0|[3.0,2.0,0.0,2.0,...|\n",
      "|       0.0|  0.0|[3.0,2.0,2.0,2.0,...|\n",
      "|       0.0|  0.0|[3.0,2.0,2.0,2.0,...|\n",
      "|       0.0|  0.0|[3.0,3.0,0.0,2.0,...|\n",
      "|       0.0|  0.0|[3.0,3.0,0.0,2.0,...|\n",
      "+----------+-----+--------------------+\n",
      "only showing top 5 rows\n",
      "\n"
     ]
    }
   ],
   "source": [
    "# make prediction on val dataset\n",
    "pred_val = model.transform(val_df)\n",
    "\n",
    "pred_val.select(\"prediction\", \"label\", \"features\").show(5)"
   ]
  },
  {
   "cell_type": "code",
   "execution_count": 17,
   "metadata": {
    "collapsed": false
   },
   "outputs": [
    {
     "name": "stdout",
     "output_type": "stream",
     "text": [
      "+----------+-----+--------------------+\n",
      "|prediction|label|            features|\n",
      "+----------+-----+--------------------+\n",
      "|       0.0|  0.0|[3.0,2.0,0.0,2.0,...|\n",
      "|       0.0|  0.0|[3.0,2.0,1.0,2.0,...|\n",
      "|       0.0|  0.0|[3.0,2.0,2.0,2.0,...|\n",
      "|       0.0|  0.0|[3.0,2.0,0.0,4.0,...|\n",
      "|       0.0|  0.0|[3.0,2.0,1.0,4.0,...|\n",
      "+----------+-----+--------------------+\n",
      "only showing top 5 rows\n",
      "\n"
     ]
    }
   ],
   "source": [
    "# make prediction on test datast\n",
    "predictions = model.transform(test_df)\n",
    "\n",
    "# display the first ten rows of prediction\n",
    "predictions.select(\"prediction\", \"label\", \"features\").show(5)"
   ]
  },
  {
   "cell_type": "code",
   "execution_count": 18,
   "metadata": {
    "collapsed": false
   },
   "outputs": [
    {
     "name": "stdout",
     "output_type": "stream",
     "text": [
      "Val Accuracy = 0.726368\n",
      "Val Error = 0.273632\n",
      "Test Accuracy = 0.714008\n",
      "Test Error = 0.285992\n"
     ]
    }
   ],
   "source": [
    "# select (prediction, true label)\n",
    "evaluator = MulticlassClassificationEvaluator(\\\n",
    "    labelCol='label', predictionCol='prediction', metricName='precision')\n",
    "\n",
    "# compute accuracy and val error\n",
    "acc_val = evaluator.evaluate(pred_val)\n",
    "print \"Val Accuracy = %g\" % acc_val\n",
    "print \"Val Error = %g\" % (1.0 - acc_val)\n",
    "\n",
    "# compute accuracy and test error\n",
    "acc_test = evaluator.evaluate(predictions)\n",
    "print \"Test Accuracy = %g\" % acc_test\n",
    "print \"Test Error = %g\" % (1.0 - acc_test)\n"
   ]
  },
  {
   "cell_type": "markdown",
   "metadata": {},
   "source": [
    "From the results above we see that the test accuracy is about the same as the validation accuracy, which is still an acceptable difference."
   ]
  },
  {
   "cell_type": "markdown",
   "metadata": {},
   "source": [
    "### Classify using Random Forest"
   ]
  },
  {
   "cell_type": "code",
   "execution_count": 19,
   "metadata": {
    "collapsed": false
   },
   "outputs": [
    {
     "name": "stdout",
     "output_type": "stream",
     "text": [
      "Number of Trees: 4\n",
      "Train Error = 0.237316\n",
      "Val Error = 0.28524\n",
      "Number of Trees: 5\n",
      "Train Error = 0.216039\n",
      "Val Error = 0.276949\n",
      "Number of Trees: 6\n",
      "Train Error = 0.225859\n",
      "Val Error = 0.283582\n",
      "Number of Trees: 7\n",
      "Train Error = 0.217676\n",
      "Val Error = 0.288557\n",
      "Number of Trees: 8\n",
      "Train Error = 0.212766\n",
      "Val Error = 0.271973\n",
      "Number of Trees: 9\n",
      "Train Error = 0.217676\n",
      "Val Error = 0.291874\n",
      "Number of Trees: 10\n",
      "Train Error = 0.211129\n",
      "Val Error = 0.286899\n",
      "Number of Trees: 11\n",
      "Train Error = 0.220949\n",
      "Val Error = 0.28524\n",
      "Number of Trees: 12\n",
      "Train Error = 0.222586\n",
      "Val Error = 0.286899\n",
      "Number of Trees: 13\n",
      "Train Error = 0.211129\n",
      "Val Error = 0.298507\n",
      "Number of Trees: 14\n",
      "Train Error = 0.209493\n",
      "Val Error = 0.281924\n",
      "Number of Trees: 15\n",
      "Train Error = 0.206219\n",
      "Val Error = 0.268657\n",
      "Number of Trees: 16\n",
      "Train Error = 0.214403\n",
      "Val Error = 0.280265\n",
      "Number of Trees: 17\n",
      "Train Error = 0.222586\n",
      "Val Error = 0.288557\n"
     ]
    }
   ],
   "source": [
    "from pyspark.ml.classification import RandomForestClassifier\n",
    "from pyspark.ml.tuning import CrossValidator, ParamGridBuilder\n",
    "\n",
    "# Since we already have the label and features indexed,\n",
    "# we can start training the RF\n",
    "\n",
    "numTrees = [4, 5, 6, 7, 8, 9, 10, 11, 12, 13, 14, 15, 16, 17]\n",
    "err_val_rf = []\n",
    "err_tr_rf = []\n",
    "\n",
    "evaluator_rf = MulticlassClassificationEvaluator(\\\n",
    "        labelCol='label', predictionCol='prediction', metricName='precision')\n",
    "paramGrid = ParamGridBuilder().build()\n",
    "for num in numTrees:\n",
    "    print \"Number of Trees: %g\" % num\n",
    "    rf = RandomForestClassifier(labelCol='label', featuresCol='features', numTrees=num)\n",
    "    # create 10-fold cross validation\n",
    "    crossVal = CrossValidator(estimator=rf,\\\n",
    "                             evaluator=MulticlassClassificationEvaluator(),\\\n",
    "                             estimatorParamMaps=paramGrid,\\\n",
    "                             numFolds=10)\n",
    "    # train the model\n",
    "    model_rf = crossVal.fit(train_df)\n",
    "    # make prediction\n",
    "    pred_tr = model_rf.transform(train_df)\n",
    "    pred_val = model_rf.transform(val_df)\n",
    "    acc_tr = evaluator_rf.evaluate(pred_tr)\n",
    "    err_tr_rf.append((1.0 - acc_tr))\n",
    "    print \"Train Error = %g\" % (1.0 - acc_tr)\n",
    "    acc_val = evaluator_rf.evaluate(pred_val)\n",
    "    err_val_rf.append((1.0 - acc_val))\n",
    "    #print \"Val Accuracy = %g\" % acc_val\n",
    "    print \"Val Error = %g\" % (1.0 - acc_val)\n",
    "\n"
   ]
  },
  {
   "cell_type": "code",
   "execution_count": 20,
   "metadata": {
    "collapsed": false
   },
   "outputs": [
    {
     "data": {
      "text/plain": [
       "<matplotlib.legend.Legend at 0x7f5914569810>"
      ]
     },
     "execution_count": 20,
     "metadata": {},
     "output_type": "execute_result"
    },
    {
     "data": {
      "image/png": "[encoded data removed]",
      "text/plain": [
       "<matplotlib.figure.Figure at 0x7f5914536d90>"
      ]
     },
     "metadata": {},
     "output_type": "display_data"
    }
   ],
   "source": [
    "plt.plot(numTrees, err_tr_rf, label=\"Train\")\n",
    "plt.plot(numTrees, err_val_rf, label=\"Val\")\n",
    "plt.xlabel(\"Number of Trees\")\n",
    "plt.ylabel(\"Error Rate\")\n",
    "plt.legend(loc='best')"
   ]
  },
  {
   "cell_type": "markdown",
   "metadata": {
    "collapsed": false
   },
   "source": [
    "We see that the validation error rate is almost 5-10% higher than train error rate, indicating an overfit. We are using number of trees = 12 since it is the point where the train/validation error rates are closest.\n",
    "\n",
    "Now let's test the model on the test dataset."
   ]
  },
  {
   "cell_type": "code",
   "execution_count": 21,
   "metadata": {
    "collapsed": false
   },
   "outputs": [
    {
     "name": "stdout",
     "output_type": "stream",
     "text": [
      "Test Error Rate = 0.280156\n"
     ]
    }
   ],
   "source": [
    "rf_test = RandomForestClassifier(labelCol='label', featuresCol='features', numTrees=12)\n",
    "test_model = rf_test.fit(train_df)\n",
    "test_pred = test_model.transform(test_df)\n",
    "test_acc = evaluator_rf.evaluate(test_pred)\n",
    "print \"Test Error Rate = %g\" % (1.0 - test_acc)"
   ]
  },
  {
   "cell_type": "markdown",
   "metadata": {},
   "source": [
    "And now we have the test error rate of RF classifier with 12 trees."
   ]
  },
  {
   "cell_type": "markdown",
   "metadata": {
    "collapsed": true
   },
   "source": [
    "### Classification using Multilayer Perceptrons"
   ]
  },
  {
   "cell_type": "code",
   "execution_count": 22,
   "metadata": {
    "collapsed": false
   },
   "outputs": [
    {
     "name": "stdout",
     "output_type": "stream",
     "text": [
      "Layers:  [5, 8, 6, 4]\n",
      "Number of Iteration: 10\n",
      "Train Error Rate = 0.273322\n",
      "Val Error Rate = 0.33665\n",
      "Layers:  [5, 8, 6, 4]\n",
      "Number of Iteration: 20\n",
      "Train Error Rate = 0.276596\n",
      "Val Error Rate = 0.3267\n",
      "Layers:  [5, 8, 6, 4]\n",
      "Number of Iteration: 30\n",
      "Train Error Rate = 0.271686\n",
      "Val Error Rate = 0.330017\n",
      "Layers:  [5, 8, 6, 4]\n",
      "Number of Iteration: 40\n",
      "Train Error Rate = 0.243863\n",
      "Val Error Rate = 0.283582\n",
      "Layers:  [5, 16, 4]\n",
      "Number of Iteration: 10\n",
      "Train Error Rate = 0.283142\n",
      "Val Error Rate = 0.333333\n",
      "Layers:  [5, 16, 4]\n",
      "Number of Iteration: 20\n",
      "Train Error Rate = 0.235679\n",
      "Val Error Rate = 0.296849\n",
      "Layers:  [5, 16, 4]\n",
      "Number of Iteration: 30\n",
      "Train Error Rate = 0.220949\n",
      "Val Error Rate = 0.278607\n",
      "Layers:  [5, 16, 4]\n",
      "Number of Iteration: 40\n",
      "Train Error Rate = 0.204583\n",
      "Val Error Rate = 0.280265\n",
      "Layers:  [5, 16, 8, 4]\n",
      "Number of Iteration: 10\n",
      "Train Error Rate = 0.273322\n",
      "Val Error Rate = 0.33665\n",
      "Layers:  [5, 16, 8, 4]\n",
      "Number of Iteration: 20\n",
      "Train Error Rate = 0.268412\n",
      "Val Error Rate = 0.308458\n",
      "Layers:  [5, 16, 8, 4]\n",
      "Number of Iteration: 30\n",
      "Train Error Rate = 0.235679\n",
      "Val Error Rate = 0.268657\n",
      "Layers:  [5, 16, 8, 4]\n",
      "Number of Iteration: 40\n",
      "Train Error Rate = 0.220949\n",
      "Val Error Rate = 0.270315\n",
      "Layers:  [5, 8, 4]\n",
      "Number of Iteration: 10\n",
      "Train Error Rate = 0.273322\n",
      "Val Error Rate = 0.334992\n",
      "Layers:  [5, 8, 4]\n",
      "Number of Iteration: 20\n",
      "Train Error Rate = 0.240589\n",
      "Val Error Rate = 0.306799\n",
      "Layers:  [5, 8, 4]\n",
      "Number of Iteration: 30\n",
      "Train Error Rate = 0.220949\n",
      "Val Error Rate = 0.281924\n",
      "Layers:  [5, 8, 4]\n",
      "Number of Iteration: 40\n",
      "Train Error Rate = 0.230769\n",
      "Val Error Rate = 0.278607\n",
      "{'1': [0.2733224222585925, 0.276595744680851, 0.2716857610474632, 0.24386252045826518], '3': [0.2831423895253683, 0.23567921440261863, 0.22094926350245503, 0.20458265139116205], '2': [0.2733224222585925, 0.2684124386252046, 0.23567921440261863, 0.22094926350245503], '4': [0.2733224222585925, 0.24058919803600654, 0.22094926350245503, 0.23076923076923073]}\n",
      "{'1': [0.33665008291873966, 0.3266998341625207, 0.3300165837479271, 0.28358208955223885], '3': [0.33333333333333337, 0.296849087893864, 0.2786069651741293, 0.28026533996683245], '2': [0.33665008291873966, 0.3084577114427861, 0.26865671641791045, 0.2703150912106136], '4': [0.3349917081260365, 0.30679933665008297, 0.2819237147595357, 0.2786069651741293]}\n"
     ]
    }
   ],
   "source": [
    "from pyspark.ml.classification import MultilayerPerceptronClassifier\n",
    "\n",
    "various_layers = {'1':[5, 8, 6, 4], '2':[5, 16, 8, 4], '3':[5, 16, 4], '4': [5, 8, 4]}\n",
    "numIter = [10, 20, 30, 40]\n",
    "mlp_evaluator = MulticlassClassificationEvaluator(\\\n",
    "       labelCol=\"label\", predictionCol=\"prediction\",\\\n",
    "       metricName=\"precision\")\n",
    "\n",
    "tr_err_layers = {}\n",
    "val_err_layers = {}\n",
    "\n",
    "for k, v in various_layers.items():\n",
    "    mlp_err_tr = []\n",
    "    mlp_err_val = []\n",
    "    for i in numIter:\n",
    "        \n",
    "        print \"Layers: \", v\n",
    "        print \"Number of Iteration: %g\" % i\n",
    "        mlp = MultilayerPerceptronClassifier(\\\n",
    "                    maxIter=i, layers=v, blockSize=128,\\\n",
    "                    seed=123)\n",
    "        mlp_model = mlp.fit(train_df)\n",
    "        \n",
    "        mlp_pred_tr = mlp_model.transform(train_df)\n",
    "        acc_tr = mlp_evaluator.evaluate(mlp_pred_tr)\n",
    "        err_tr = 1.0 - acc_tr\n",
    "        mlp_err_tr.append(err_tr)\n",
    "        print \"Train Error Rate = %g\" % err_tr\n",
    "        \n",
    "        mlp_pred_val = mlp_model.transform(val_df)\n",
    "        acc_val = mlp_evaluator.evaluate(mlp_pred_val)\n",
    "        err_val = 1.0 - acc_val\n",
    "        mlp_err_val.append(err_val)\n",
    "        print \"Val Error Rate = %g\" % err_val\n",
    "    tr_err_layers[k] = mlp_err_tr\n",
    "    val_err_layers[k] = mlp_err_val\n",
    "\n",
    "print tr_err_layers\n",
    "print val_err_layers"
   ]
  },
  {
   "cell_type": "markdown",
   "metadata": {},
   "source": [
    "We want to know the optimal number of iteration"
   ]
  },
  {
   "cell_type": "code",
   "execution_count": 23,
   "metadata": {
    "collapsed": false
   },
   "outputs": [
    {
     "name": "stdout",
     "output_type": "stream",
     "text": [
      "[[0.2733224222585925, 0.276595744680851, 0.2716857610474632, 0.24386252045826518], [0.2831423895253683, 0.23567921440261863, 0.22094926350245503, 0.20458265139116205], [0.2733224222585925, 0.2684124386252046, 0.23567921440261863, 0.22094926350245503], [0.2733224222585925, 0.24058919803600654, 0.22094926350245503, 0.23076923076923073]]\n",
      "[[0.33665008291873966, 0.3266998341625207, 0.3300165837479271, 0.28358208955223885], [0.33333333333333337, 0.296849087893864, 0.2786069651741293, 0.28026533996683245], [0.33665008291873966, 0.3084577114427861, 0.26865671641791045, 0.2703150912106136], [0.3349917081260365, 0.30679933665008297, 0.2819237147595357, 0.2786069651741293]]\n",
      "[[5, 8, 6, 4], [5, 16, 4], [5, 16, 8, 4], [5, 8, 4]]\n"
     ]
    }
   ],
   "source": [
    "tr_err_list = [v for k,v in tr_err_layers.items()]\n",
    "val_err_list = [v for k,v in val_err_layers.items()]\n",
    "lyrs = [v for k,v in various_layers.items()]\n",
    "print tr_err_list\n",
    "print val_err_list\n",
    "print lyrs"
   ]
  },
  {
   "cell_type": "markdown",
   "metadata": {},
   "source": [
    "Now we plot the results to examine the best MLP model."
   ]
  },
  {
   "cell_type": "code",
   "execution_count": 26,
   "metadata": {
    "collapsed": false
   },
   "outputs": [
    {
     "data": {
      "image/png": "[encoded data removed]",
      "text/plain": [
       "<matplotlib.figure.Figure at 0x7f590054b150>"
      ]
     },
     "metadata": {},
     "output_type": "display_data"
    }
   ],
   "source": [
    "from pylab import rcParams\n",
    "\n",
    "types = len(various_layers)\n",
    "for i in range(types):\n",
    "    plt.subplot(types, 1, (i+1))\n",
    "\n",
    "    plt.plot(numIter, tr_err_list[i], label=\"Train\")\n",
    "    plt.plot(numIter, val_err_list[i], label=\"Val\")\n",
    "\n",
    "    plt.tight_layout()\n",
    "    plt.rcParams[\"figure.figsize\"] = (12, 16)\n",
    "    plt.xlabel(\"Number of Iteration\")\n",
    "    plt.ylabel(\"Error Rate\")\n",
    "    plt.legend(loc='best')\n",
    "    plt.title(\"Layer \" + str(lyrs[i]))\n"
   ]
  },
  {
   "cell_type": "markdown",
   "metadata": {
    "collapsed": true
   },
   "source": [
    "From the plots, we see that MLP with layer variation [5, 16, 8, 4] generates lowest train and val error rates. Additionally, 40 iterations seem to produce the lowest, non-overfitting results."
   ]
  },
  {
   "cell_type": "code",
   "execution_count": 27,
   "metadata": {
    "collapsed": false
   },
   "outputs": [
    {
     "name": "stdout",
     "output_type": "stream",
     "text": [
      "MLP Test Error = 0.276265\n"
     ]
    }
   ],
   "source": [
    "# Create the model\n",
    "maxIter = 40\n",
    "layers = [5, 16, 8, 4]\n",
    "mlp = MultilayerPerceptronClassifier(\\\n",
    "                    maxIter=maxIter, layers=layers, blockSize=128,\\\n",
    "                    seed=123)\n",
    "# Train\n",
    "test_mlp_model = mlp.fit(train_df)\n",
    "\n",
    "# Start testing\n",
    "test_mlp_pred = test_mlp_model.transform(test_df)\n",
    "\n",
    "# Evaluate\n",
    "test_mlp_acc = mlp_evaluator.evaluate(test_mlp_pred)\n",
    "test_mlp_err = 1.0 - test_mlp_acc\n",
    "print \"MLP Test Error = %g\" % test_mlp_err"
   ]
  },
  {
   "cell_type": "markdown",
   "metadata": {},
   "source": [
    "Recall that Decision Tree test error is 0.285992 and Random Forest is 0.280156, making MLP test error the lowest with 0.276265."
   ]
  },
  {
   "cell_type": "code",
   "execution_count": null,
   "metadata": {
    "collapsed": true
   },
   "outputs": [],
   "source": []
  }
 ],
 "metadata": {
  "kernelspec": {
   "display_name": "Python 2 with Spark 1.6",
   "language": "python",
   "name": "python2"
  },
  "language_info": {
   "codemirror_mode": {
    "name": "ipython",
    "version": 2
   },
   "file_extension": ".py",
   "mimetype": "text/x-python",
   "name": "python",
   "nbconvert_exporter": "python",
   "pygments_lexer": "ipython2",
   "version": "2.7.11"
  }
 },
 "nbformat": 4,
 "nbformat_minor": 0
}